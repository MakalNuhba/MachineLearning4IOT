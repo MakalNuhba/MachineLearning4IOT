{
 "cells": [
  {
   "cell_type": "markdown",
   "metadata": {},
   "source": [
    "# TensorFlow Lite Converter and Interpeter\n",
    "\n",
    "In this notebook, we'll cover how to convert a standard TF model to TFLite format, and how to load it with the TFLite interpreter to run predictions. We'll use the Python API for the TFLite interpreter, since it is the easiest to use on Linux-based embedded systems (e.g. the Raspberry Pi), although not the most efficient.\n",
    "\n",
    "The notebook is composed of two parts:\n",
    "\n",
    "- Part 1 is normally executed on the development system (e.g. a PC, cloud server, etc.)\n",
    "\n",
    "- Part 2 is normally executed on the target device (e.g. a Raspberry Pi). However, for demonstration purposes, we'll run both parts on the same machine.\n",
    "\n",
    "## Part 1: Convert a Keras model with the TFLite Converter\n",
    "\n",
    "##### Create and train a model\n",
    "\n",
    "We start by creating and training a standard Keras sequential model. We'll use a simple MLP with one input and one output, trained on some linearly dependent data."
   ]
  },
  {
   "cell_type": "code",
   "execution_count": 11,
   "metadata": {},
   "outputs": [
    {
     "name": "stdout",
     "output_type": "stream",
     "text": [
      "Model: \"sequential_1\"\n",
      "_________________________________________________________________\n",
      "Layer (type)                 Output Shape              Param #   \n",
      "=================================================================\n",
      "first_dense (Dense)          (None, 1)                 2         \n",
      "_________________________________________________________________\n",
      "second_dense (Dense)         (None, 16)                32        \n",
      "_________________________________________________________________\n",
      "third_dense (Dense)          (None, 1)                 17        \n",
      "=================================================================\n",
      "Total params: 51\n",
      "Trainable params: 51\n",
      "Non-trainable params: 0\n",
      "_________________________________________________________________\n",
      "Epoch 1/30\n",
      "1/1 [==============================] - 0s 235ms/step - loss: 4.3240\n",
      "Epoch 2/30\n",
      "1/1 [==============================] - 0s 3ms/step - loss: 3.0391\n",
      "Epoch 3/30\n",
      "1/1 [==============================] - 0s 4ms/step - loss: 2.1813\n",
      "Epoch 4/30\n",
      "1/1 [==============================] - 0s 3ms/step - loss: 1.5019\n",
      "Epoch 5/30\n",
      "1/1 [==============================] - 0s 4ms/step - loss: 0.9270\n",
      "Epoch 6/30\n",
      "1/1 [==============================] - 0s 4ms/step - loss: 0.5052\n",
      "Epoch 7/30\n",
      "1/1 [==============================] - 0s 3ms/step - loss: 0.2472\n",
      "Epoch 8/30\n",
      "1/1 [==============================] - 0s 3ms/step - loss: 0.1175\n",
      "Epoch 9/30\n",
      "1/1 [==============================] - 0s 3ms/step - loss: 0.0591\n",
      "Epoch 10/30\n",
      "1/1 [==============================] - 0s 6ms/step - loss: 0.0321\n",
      "Epoch 11/30\n",
      "1/1 [==============================] - 0s 2ms/step - loss: 0.0184\n",
      "Epoch 12/30\n",
      "1/1 [==============================] - 0s 4ms/step - loss: 0.0111\n",
      "Epoch 13/30\n",
      "1/1 [==============================] - 0s 3ms/step - loss: 0.0071\n",
      "Epoch 14/30\n",
      "1/1 [==============================] - 0s 3ms/step - loss: 0.0049\n",
      "Epoch 15/30\n",
      "1/1 [==============================] - 0s 4ms/step - loss: 0.0037\n",
      "Epoch 16/30\n",
      "1/1 [==============================] - 0s 3ms/step - loss: 0.0029\n",
      "Epoch 17/30\n",
      "1/1 [==============================] - 0s 3ms/step - loss: 0.0024\n",
      "Epoch 18/30\n",
      "1/1 [==============================] - 0s 3ms/step - loss: 0.0021\n",
      "Epoch 19/30\n",
      "1/1 [==============================] - 0s 4ms/step - loss: 0.0018\n",
      "Epoch 20/30\n",
      "1/1 [==============================] - 0s 3ms/step - loss: 0.0016\n",
      "Epoch 21/30\n",
      "1/1 [==============================] - 0s 5ms/step - loss: 0.0015\n",
      "Epoch 22/30\n",
      "1/1 [==============================] - 0s 3ms/step - loss: 0.0013\n",
      "Epoch 23/30\n",
      "1/1 [==============================] - 0s 4ms/step - loss: 0.0012\n",
      "Epoch 24/30\n",
      "1/1 [==============================] - 0s 5ms/step - loss: 0.0011\n",
      "Epoch 25/30\n",
      "1/1 [==============================] - 0s 3ms/step - loss: 9.5244e-04\n",
      "Epoch 26/30\n",
      "1/1 [==============================] - 0s 3ms/step - loss: 8.5960e-04\n",
      "Epoch 27/30\n",
      "1/1 [==============================] - 0s 4ms/step - loss: 7.7617e-04\n",
      "Epoch 28/30\n",
      "1/1 [==============================] - 0s 4ms/step - loss: 7.0110e-04\n",
      "Epoch 29/30\n",
      "1/1 [==============================] - 0s 3ms/step - loss: 6.3349e-04\n",
      "Epoch 30/30\n",
      "1/1 [==============================] - 0s 3ms/step - loss: 5.7255e-04\n"
     ]
    },
    {
     "data": {
      "text/plain": [
       "<tensorflow.python.keras.callbacks.History at 0x16ac20bb0>"
      ]
     },
     "execution_count": 11,
     "metadata": {},
     "output_type": "execute_result"
    }
   ],
   "source": [
    "import tensorflow as tf\n",
    "import numpy as np\n",
    "\n",
    "x_train = [-1, 0, 1]\n",
    "y_train = [-3, -1, 1]\n",
    "\n",
    "model = tf.keras.models.Sequential([\n",
    "    tf.keras.layers.Dense(units=1, input_shape=[1], name='first_dense'),\n",
    "    tf.keras.layers.Dense(units=16, activation='relu', name='second_dense'),\n",
    "    tf.keras.layers.Dense(units=1, name='third_dense')\n",
    "])\n",
    "model.summary()\n",
    "opt = tf.keras.optimizers.SGD(learning_rate=0.05)\n",
    "model.compile(optimizer=opt, loss='mean_squared_error')\n",
    "model.fit(x=x_train, y=y_train, epochs=30)"
   ]
  },
  {
   "cell_type": "markdown",
   "metadata": {},
   "source": [
    "##### Save the Model\n",
    "\n",
    "After training, the next step consists in saving the model to the standard TF2 format, called \"SavedModel\""
   ]
  },
  {
   "cell_type": "code",
   "execution_count": 12,
   "metadata": {},
   "outputs": [
    {
     "name": "stdout",
     "output_type": "stream",
     "text": [
      "INFO:tensorflow:Assets written to: my_model/assets\n"
     ]
    }
   ],
   "source": [
    "model.save(\"my_model\")"
   ]
  },
  {
   "cell_type": "code",
   "execution_count": 13,
   "metadata": {},
   "outputs": [
    {
     "name": "stdout",
     "output_type": "stream",
     "text": [
      "total 168\r\n",
      "drwxr-xr-x  2 jah  staff     64 Nov 15 11:11 \u001b[1m\u001b[36massets\u001b[m\u001b[m\r\n",
      "-rw-r--r--  1 jah  staff   7720 Nov 15 11:14 keras_metadata.pb\r\n",
      "-rw-r--r--  1 jah  staff  76293 Nov 15 11:14 saved_model.pb\r\n",
      "drwxr-xr-x  4 jah  staff    128 Nov 15 11:14 \u001b[1m\u001b[36mvariables\u001b[m\u001b[m\r\n"
     ]
    }
   ],
   "source": [
    "!ls -l my_model"
   ]
  },
  {
   "cell_type": "markdown",
   "metadata": {},
   "source": [
    "##### Convert the Model\n",
    "\n",
    "Next, we can use the TFLite converter to turn the SavedModel into a `.tflite` FlatBuffer, that can be loaded by the TFLite interpreter."
   ]
  },
  {
   "cell_type": "code",
   "execution_count": 14,
   "metadata": {},
   "outputs": [
    {
     "name": "stdout",
     "output_type": "stream",
     "text": [
      "b'\\x1c\\x00\\x00\\x00TFL3\\x14\\x00 \\x00\\x04\\x00\\x08\\x00\\x0c\\x00\\x10\\x00\\x14\\x00\\x00\\x00\\x18\\x00\\x1c\\x00\\x14\\x00\\x00\\x00\\x03\\x00\\x00\\x00T\\x00\\x00\\x00H\\x00\\x00\\x00@\\x01\\x00\\x00\\x0c\\x00\\x00\\x00\\xe8\\x00\\x00\\x00H\\x00\\x00\\x00\\x0c\\x00\\x00\\x00,\\x07\\x00\\x00(\\x07\\x00\\x00X\\x06\\x00\\x00\\xc4\\x05\\x00\\x00x\\x05\\x00\\x00\\x1c\\x05\\x00\\x00\\x80\\x04\\x00\\x00\\xe8\\x03\\x00\\x00\\x0c\\x07\\x00\\x00\\x08\\x07\\x00\\x00\\x04\\x07\\x00\\x00\\xe4\\x00\\x00\\x00\\x01\\x00\\x00\\x00\\x1c\\x01\\x00\\x00\\x01\\x00\\x00\\x00<\\x03\\x00\\x00\\x01\\x00\\x00\\x00\\x10\\x00\\x00\\x00\\x0c\\x00\\x14\\x00\\x10\\x00\\x0c\\x00\\x08\\x00\\x04\\x00\\x0c\\x00\\x00\\x00\\x10\\x00\\x00\\x00\\x18\\x00\\x00\\x00(\\x00\\x00\\x00,\\x00\\x00\\x00\\x05\\x00\\x00\\x00serve\\x00\\x00\\x00\\x0f\\x00\\x00\\x00serving_default\\x00\\x01\\x00\\x00\\x00\\x14\\x00\\x00\\x00\\x01\\x00\\x00\\x00(\\x00\\x00\\x00\\x08\\x00\\x0c\\x00\\x08\\x00\\x04\\x00\\x08\\x00\\x00\\x00\\t\\x00\\x00\\x00\\x04\\x00\\x00\\x00\\x0b\\x00\\x00\\x00third_dense\\x00b\\xfa\\xff\\xff\\x04\\x00\\x00\\x00\\x11\\x00\\x00\\x00first_dense_input\\x00\\x00\\x00\\x01\\x00\\x00\\x00\\x0c\\x00\\x00\\x00\\x08\\x00\\x0c\\x00\\x04\\x00\\x08\\x00\\x08\\x00\\x00\\x00\\x08\\x00\\x00\\x00\\x0b\\x00\\x00\\x00\\x13\\x00\\x00\\x00min_runtime_version\\x00\\xb6\\xfa\\xff\\xff\\x04\\x00\\x00\\x00\\x10\\x00\\x00\\x001.5.0\\x00\\x00\\x00\\x00\\x00\\x00\\x00\\x00\\x00\\x00\\x00\\x0f\\x00\\x00\\x00MLIR Converted.\\x00\\x00\\x00\\x0e\\x00\\x18\\x00\\x04\\x00\\x08\\x00\\x0c\\x00\\x10\\x00\\x14\\x00\\x0e\\x00\\x00\\x00@\\x00\\x00\\x004\\x00\\x00\\x00(\\x00\\x00\\x00\\x14\\x00\\x00\\x00\\x04\\x00\\x00\\x00\\x04\\x00\\x00\\x00main\\x00\\x00\\x00\\x00\\x03\\x00\\x00\\x00\\xc4\\x01\\x00\\x00\\xd8\\x00\\x00\\x00@\\x00\\x00\\x00\\x01\\x00\\x00\\x00\\t\\x00\\x00\\x00\\x01\\x00\\x00\\x00\\x00\\x00\\x00\\x00\\n\\x00\\x00\\x004\\x05\\x00\\x00\\xe4\\x04\\x00\\x00|\\x04\\x00\\x00\\xf4\\x03\\x00\\x00\\x98\\x03\\x00\\x008\\x03\\x00\\x00\\xa0\\x02\\x00\\x00\\xd4\\x01\\x00\\x00\\xd8\\x00\\x00\\x004\\x00\\x00\\x00\\x92\\xfe\\xff\\xff\\x00\\x00\\x00\\x08\\x18\\x00\\x00\\x00\\x0c\\x00\\x00\\x00\\x04\\x00\\x00\\x00\\xac\\xfa\\xff\\xff\\x01\\x00\\x00\\x00\\t\\x00\\x00\\x00\\x03\\x00\\x00\\x00\\x08\\x00\\x00\\x00\\x06\\x00\\x00\\x00\\x01\\x00\\x00\\x008\\xfb\\xff\\xff@\\x00\\x00\\x00\\n\\x00\\x00\\x00\\x18\\x00\\x00\\x00@\\x00\\x00\\x00\\x04\\x00\\x00\\x00\\x02\\x00\\x00\\x00\\xff\\xff\\xff\\xff\\x01\\x00\\x00\\x00\\x19\\x00\\x00\\x00StatefulPartitionedCall:0\\x00\\x00\\x00\\x02\\x00\\x00\\x00\\x01\\x00\\x00\\x00\\x01\\x00\\x00\\x00\\xf0\\xfb\\xff\\xff\\x00\\x00\\x0e\\x00\\x16\\x00\\x00\\x00\\x08\\x00\\x0c\\x00\\x07\\x00\\x10\\x00\\x0e\\x00\\x00\\x00\\x00\\x00\\x00\\x08$\\x00\\x00\\x00\\x18\\x00\\x00\\x00\\x0c\\x00\\x00\\x00\\x00\\x00\\x06\\x00\\x08\\x00\\x07\\x00\\x06\\x00\\x00\\x00\\x00\\x00\\x00\\x01\\x01\\x00\\x00\\x00\\x08\\x00\\x00\\x00\\x03\\x00\\x00\\x00\\x07\\x00\\x00\\x00\\x05\\x00\\x00\\x00\\x02\\x00\\x00\\x00\\xd8\\xfb\\xff\\xff\\x88\\x00\\x00\\x00\\t\\x00\\x00\\x00\\x18\\x00\\x00\\x00\\x88\\x00\\x00\\x00\\x04\\x00\\x00\\x00\\x02\\x00\\x00\\x00\\xff\\xff\\xff\\xff\\x10\\x00\\x00\\x00a\\x00\\x00\\x00sequential_1/second_dense/MatMul;sequential_1/second_dense/BiasAdd;sequential_1/second_dense/Relu\\x00\\x00\\x00\\x02\\x00\\x00\\x00\\x01\\x00\\x00\\x00\\x10\\x00\\x00\\x00\\xd8\\xfc\\xff\\xff\\x00\\x00\\x0e\\x00\\x14\\x00\\x00\\x00\\x08\\x00\\x0c\\x00\\x07\\x00\\x10\\x00\\x0e\\x00\\x00\\x00\\x00\\x00\\x00\\x08\\x18\\x00\\x00\\x00\\x0c\\x00\\x00\\x00\\x04\\x00\\x00\\x00(\\xfc\\xff\\xff\\x01\\x00\\x00\\x00\\x07\\x00\\x00\\x00\\x03\\x00\\x00\\x00\\x00\\x00\\x00\\x00\\x04\\x00\\x00\\x00\\x03\\x00\\x00\\x00\\x0c\\x00\\x10\\x00\\x0b\\x00\\x00\\x00\\x0c\\x00\\x04\\x00\\x0c\\x00\\x00\\x00\\t\\x00\\x00\\x00\\x00\\x00\\x00\\t\\x01\\x00\\x00\\x00\\xd0\\xfc\\xff\\xffh\\x00\\x00\\x00\\x08\\x00\\x00\\x00\\x18\\x00\\x00\\x00h\\x00\\x00\\x00\\x04\\x00\\x00\\x00\\x02\\x00\\x00\\x00\\xff\\xff\\xff\\xff\\x01\\x00\\x00\\x00@\\x00\\x00\\x00sequential_1/first_dense/MatMul;sequential_1/first_dense/BiasAdd\\x00\\x00\\x00\\x00\\x02\\x00\\x00\\x00\\x01\\x00\\x00\\x00\\x01\\x00\\x00\\x00\\xd8\\xfc\\xff\\xff\\xaa\\xfd\\xff\\xff\\x04\\x00\\x00\\x00@\\x00\\x00\\x00U\\xa8\\xb1>\\x9f\\x88u\\xbd&\\xdbO\\xbf\\xf6\\xfe\\xb0\\xbd\\xed\\xdf\\xec\\xbdE\\x91\\x8e\\xbe(\\xb1\\xe0>X\\xca\\xd4>\\xa9\\xeb\\xd5\\xbe1n\\x16\\xbf~$\\x13\\xbe\\xf9\\xb2\"?K]\\xb3<uL\\xae>$<\\x00?\\xaf\\xebK>\\xde\\xfd\\xff\\xff4\\x00\\x00\\x00\\x07\\x00\\x00\\x00\\x08\\x00\\x00\\x004\\x00\\x00\\x00\\x1f\\x00\\x00\\x00sequential_1/third_dense/MatMul\\x00\\x02\\x00\\x00\\x00\\x01\\x00\\x00\\x00\\x10\\x00\\x00\\x00l\\xfd\\xff\\xff>\\xfe\\xff\\xff\\x04\\x00\\x00\\x00@\\x00\\x00\\x00\\xc2\\x8f\\xac\\xbe\\x80\\xed\\xda>c\\xf6K?\\xdf\\x17\\xd4\\xbe\\xed\\xc9O\\xbe\\x8d\\xa7\\xb1\\xbe\\xcd;\\x16=5\\xa9\\x05<,\\n\\x06\\xbd\\xff(I?D2\\x11\\xbex\\x96\\x0c\\xbf\\x97\\x81\\x9d\\xbe\\x9f<)\\xbe\\x1b}\\x14\\xbf\\xd6V\\xa0\\xber\\xfe\\xff\\xff8\\x00\\x00\\x00\\x06\\x00\\x00\\x00\\x08\\x00\\x00\\x008\\x00\\x00\\x00 \\x00\\x00\\x00sequential_1/second_dense/MatMul\\x00\\x00\\x00\\x00\\x02\\x00\\x00\\x00\\x10\\x00\\x00\\x00\\x01\\x00\\x00\\x00\\x04\\xfe\\xff\\xff\\xd6\\xfe\\xff\\xff\\x04\\x00\\x00\\x00\\x04\\x00\\x00\\x00jF\\xe7\\xbf\\xce\\xfe\\xff\\xff4\\x00\\x00\\x00\\x05\\x00\\x00\\x00\\x08\\x00\\x00\\x004\\x00\\x00\\x00\\x1f\\x00\\x00\\x00sequential_1/first_dense/MatMul\\x00\\x02\\x00\\x00\\x00\\x01\\x00\\x00\\x00\\x01\\x00\\x00\\x00\\\\\\xfe\\xff\\xff.\\xff\\xff\\xff\\x04\\x00\\x00\\x00\\x04\\x00\\x00\\x00j\\xf6y>&\\xff\\xff\\xff(\\x00\\x00\\x00\\x04\\x00\\x00\\x00\\x08\\x00\\x00\\x00$\\x00\\x00\\x00\\x10\\x00\\x00\\x00first_dense/bias\\x00\\x00\\x00\\x00\\x01\\x00\\x00\\x00\\x01\\x00\\x00\\x00\\xa4\\xfe\\xff\\xffv\\xff\\xff\\xff\\x04\\x00\\x00\\x00@\\x00\\x00\\x00a\\xcc\\x88=\\x15XL\\xbd\"\\x19\\x9f>\\x8e\\x94j\\xbd\\x98\\xddM\\xbd\\xf2\\x0b\\xe2\\xbd~?\\xb5\\xbd1HY\\xbd\\xec]\\xa3\\xbd\\xc3w7>\\x84\\xd7]\\xbd\\x002\\x01>\\xfb\\xde\\x86\\xbc\\x0f\\xac\\x1f=3\\xb3\\xcb=RY\\x0c=\\xaa\\xff\\xff\\xff(\\x00\\x00\\x00\\x03\\x00\\x00\\x00\\x08\\x00\\x00\\x00(\\x00\\x00\\x00\\x11\\x00\\x00\\x00second_dense/bias\\x00\\x00\\x00\\x01\\x00\\x00\\x00\\x10\\x00\\x00\\x00\\x04\\x00\\x06\\x00\\x04\\x00\\x00\\x00\\x00\\x00\\x06\\x00\\x08\\x00\\x04\\x00\\x06\\x00\\x00\\x00\\x04\\x00\\x00\\x00\\x04\\x00\\x00\\x00q\\xf6\\xa9\\xbe\\x00\\x00\\x0e\\x00\\x14\\x00\\x04\\x00\\x00\\x00\\x08\\x00\\x0c\\x00\\x10\\x00\\x0e\\x00\\x00\\x00(\\x00\\x00\\x00\\x02\\x00\\x00\\x00\\x08\\x00\\x00\\x00$\\x00\\x00\\x00\\x10\\x00\\x00\\x00third_dense/bias\\x00\\x00\\x00\\x00\\x01\\x00\\x00\\x00\\x01\\x00\\x00\\x00\\x8c\\xff\\xff\\xff\\x14\\x00\\x18\\x00\\x04\\x00\\x00\\x00\\x08\\x00\\x0c\\x00\\x10\\x00\\x00\\x00\\x00\\x00\\x14\\x00\\x14\\x00\\x00\\x00H\\x00\\x00\\x00\\x01\\x00\\x00\\x00\\x18\\x00\\x00\\x00H\\x00\\x00\\x00\\x04\\x00\\x00\\x00\\x02\\x00\\x00\\x00\\xff\\xff\\xff\\xff\\x01\\x00\\x00\\x00#\\x00\\x00\\x00serving_default_first_dense_input:0\\x00\\x02\\x00\\x00\\x00\\x01\\x00\\x00\\x00\\x01\\x00\\x00\\x00\\xfc\\xff\\xff\\xff\\x04\\x00\\x04\\x00\\x04\\x00\\x00\\x00'\n"
     ]
    }
   ],
   "source": [
    "converter = tf.lite.TFLiteConverter.from_saved_model(\"my_model\")\n",
    "# converter = tf.lite.TFLiteConverter.from_keras_model(model)\n",
    "tflite_model = converter.convert()\n",
    "print(tflite_model)"
   ]
  },
  {
   "cell_type": "markdown",
   "metadata": {},
   "source": [
    "Note that in this case we could have used also `TFLiteConverter.from_keras_model(model)` to save the Keras model directly. However, real trainings take much longer, so it's typically more convenient to separate the training and conversion scripts, and do the conversion starting from a SavedModel directory.\n",
    "\n",
    "##### Save the TFLite Model File\n",
    "\n",
    "The output of the `convert()` function is a serialized `bytes` Python object containing the model. These data can be written to a binary file to be transferred to the taget as follows."
   ]
  },
  {
   "cell_type": "code",
   "execution_count": 15,
   "metadata": {},
   "outputs": [],
   "source": [
    "with open('my_model.tflite', 'wb') as f:\n",
    "    f.write(tflite_model)"
   ]
  },
  {
   "cell_type": "markdown",
   "metadata": {},
   "source": [
    "## Part 2: Run inference with the TFLite Interpreter\n",
    "\n",
    "Remember! This second part typically takes place on a different device w.r.t. Part 1. Here it's preferable to only load `tflite`, not the entire `tf` package."
   ]
  },
  {
   "cell_type": "code",
   "execution_count": 16,
   "metadata": {},
   "outputs": [],
   "source": [
    "import tensorflow.lite as tflite"
   ]
  },
  {
   "cell_type": "markdown",
   "metadata": {},
   "source": [
    "##### Load the Model\n",
    "\n",
    "On the target, the first step consists in loading the model produced by the conversion in Part 1."
   ]
  },
  {
   "cell_type": "code",
   "execution_count": 17,
   "metadata": {},
   "outputs": [],
   "source": [
    "interpreter = tflite.Interpreter(model_path=\"my_model.tflite\")"
   ]
  },
  {
   "cell_type": "markdown",
   "metadata": {},
   "source": [
    "##### Allocate Tensors\n",
    "\n",
    "We can use the `allocate_tensors()` memory to allocate the memory space required for inference (buffers for inputs, outputs, intermediate activations)."
   ]
  },
  {
   "cell_type": "code",
   "execution_count": 18,
   "metadata": {},
   "outputs": [],
   "source": [
    "interpreter.allocate_tensors()"
   ]
  },
  {
   "cell_type": "markdown",
   "metadata": {},
   "source": [
    "##### Get Input/Output Details\n",
    "\n",
    "Retrieve a list of data structures (one for each input/output tensor) containing information such as the required shape, the index of the corresponding buffer allocated by the interpreter, etc."
   ]
  },
  {
   "cell_type": "code",
   "execution_count": 19,
   "metadata": {},
   "outputs": [],
   "source": [
    "input_details = interpreter.get_input_details()\n",
    "output_details = interpreter.get_output_details()"
   ]
  },
  {
   "cell_type": "markdown",
   "metadata": {},
   "source": [
    "In this case, we have a single input, with shape (1, 1) - i.e. a scalar with no batching:"
   ]
  },
  {
   "cell_type": "code",
   "execution_count": 20,
   "metadata": {},
   "outputs": [
    {
     "name": "stdout",
     "output_type": "stream",
     "text": [
      "Number of inputs: 1\n",
      "Number of outputs: 1\n",
      "Input name: serving_default_first_dense_input:0\n",
      "Input shape: [1 1]\n"
     ]
    }
   ],
   "source": [
    "print(\"Number of inputs:\", len(input_details))\n",
    "print(\"Number of outputs:\", len(output_details))\n",
    "print(\"Input name:\", input_details[0]['name'])\n",
    "print(\"Input shape:\", input_details[0]['shape'])"
   ]
  },
  {
   "cell_type": "markdown",
   "metadata": {},
   "source": [
    "##### Run the model\n",
    "\n",
    "Let's generate some random input data and feed it to the model. \n",
    "\n",
    "In reality, here's where you should feed data from your device's sensors. So, it is common to wrap this code into an infinite loop (here we just have 10 iterations), in which we get new data from a sensor, feed it to the interpreter, and use the inference result somehow (e.g. locally to perform an action or sending it to the cloud).\n",
    "\n",
    "Notice that, since the model is not yet quantized, input data are of type `float32`."
   ]
  },
  {
   "cell_type": "code",
   "execution_count": 21,
   "metadata": {},
   "outputs": [
    {
     "name": "stdout",
     "output_type": "stream",
     "text": [
      "Input: [[0.30458838]]\n",
      "Output: [[0.04943922]]\n",
      "Input: [[0.1579844]]\n",
      "Output: [[-0.43423685]]\n",
      "Input: [[-0.11756618]]\n",
      "Output: [[-1.2043735]]\n",
      "Input: [[-0.6626342]]\n",
      "Output: [[-2.3214538]]\n",
      "Input: [[-0.34693894]]\n",
      "Output: [[-1.6744576]]\n",
      "Input: [[0.86319876]]\n",
      "Output: [[0.81851685]]\n",
      "Input: [[-0.10143956]]\n",
      "Output: [[-1.1713231]]\n",
      "Input: [[0.12907879]]\n",
      "Output: [[-0.5378451]]\n",
      "Input: [[-0.61739755]]\n",
      "Output: [[-2.2287443]]\n",
      "Input: [[0.9979544]]\n",
      "Output: [[0.9903214]]\n"
     ]
    }
   ],
   "source": [
    "inputs = []\n",
    "outputs = []\n",
    "for i in range(10):\n",
    "\n",
    "    my_input = np.array(np.random.uniform(-1, 1, input_details[0]['shape']), dtype=np.float32)\n",
    "    print(\"Input:\", my_input)\n",
    "    inputs.append(my_input[0, 0])\n",
    "    \n",
    "    interpreter.set_tensor(input_details[0]['index'], my_input)\n",
    "    \n",
    "    interpreter.invoke()\n",
    "    \n",
    "    my_output = interpreter.get_tensor(output_details[0]['index'])\n",
    "    print(\"Output:\", my_output)  \n",
    "    outputs.append(my_output[0, 0])"
   ]
  },
  {
   "cell_type": "markdown",
   "metadata": {},
   "source": [
    "##### Check the Results\n",
    "\n",
    "Let us check the results to see that the interpreter is indeed producing the expected output. Of course, in reality this should be done again on the host machine after transferring data from the target."
   ]
  },
  {
   "cell_type": "code",
   "execution_count": 22,
   "metadata": {},
   "outputs": [
    {
     "data": {
      "text/plain": [
       "[<matplotlib.lines.Line2D at 0x16bf8ec40>]"
      ]
     },
     "execution_count": 22,
     "metadata": {},
     "output_type": "execute_result"
    },
    {
     "data": {
      "image/png": "[encoded data removed]",
      "text/plain": [
       "<Figure size 432x288 with 1 Axes>"
      ]
     },
     "metadata": {
      "needs_background": "light"
     },
     "output_type": "display_data"
    }
   ],
   "source": [
    "import matplotlib.pyplot as plt\n",
    "\n",
    "plt.plot(x_train, y_train, 'r-')\n",
    "plt.plot(inputs, outputs, 'b*')"
   ]
  },
  {
   "cell_type": "code",
   "execution_count": null,
   "metadata": {},
   "outputs": [],
   "source": []
  }
 ],
 "metadata": {
  "kernelspec": {
   "display_name": "Python 3 (ipykernel)",
   "language": "python",
   "name": "python3"
  },
  "language_info": {
   "codemirror_mode": {
    "name": "ipython",
    "version": 3
   },
   "file_extension": ".py",
   "mimetype": "text/x-python",
   "name": "python",
   "nbconvert_exporter": "python",
   "pygments_lexer": "ipython3",
   "version": "3.8.10"
  }
 },
 "nbformat": 4,
 "nbformat_minor": 4
}
