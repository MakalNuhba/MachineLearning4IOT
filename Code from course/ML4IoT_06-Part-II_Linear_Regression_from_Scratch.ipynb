{
 "cells": [
  {
   "cell_type": "markdown",
   "metadata": {},
   "source": [
    "# Tensorflow Core API\n",
    "\n",
    "## Linear Regression from Scratch\n",
    "\n",
    "In this notebook, we will implement linear regression completely from scratch using the TF Core API and a toy dataset, as an example. The goal is to illustrate the API.\n"
   ]
  },
  {
   "cell_type": "markdown",
   "metadata": {},
   "source": [
    "##### Import the required modules"
   ]
  },
  {
   "cell_type": "code",
   "execution_count": 1,
   "metadata": {},
   "outputs": [],
   "source": [
    "import tensorflow as tf\n",
    "\n",
    "# this is a popular plot library for python\n",
    "import matplotlib.pyplot as plt\n",
    "%matplotlib inline  "
   ]
  },
  {
   "cell_type": "markdown",
   "metadata": {},
   "source": [
    "##### Generate some training data\n",
    "\n",
    "Let's generate some training data. This is a toy example, so we'll generate data according to a linear model plus some noise.\n",
    "Notice that `Y_train` is constructed using only TensorFlow ops thanks to operator overloading."
   ]
  },
  {
   "cell_type": "code",
   "execution_count": 2,
   "metadata": {},
   "outputs": [
    {
     "name": "stdout",
     "output_type": "stream",
     "text": [
      "Train X:[0. 1. 2. 3. 4. 5. 6. 7. 8. 9.]\n",
      "Train Y:[ 4.9346714  8.06258   10.843995  13.929844  16.882318  19.862448\n",
      " 22.85812   26.058935  28.926424  32.07893  ]\n"
     ]
    }
   ],
   "source": [
    "X_train=tf.constant(range(10), dtype=tf.float32)\n",
    "Y_train=3*X_train + 5 + tf.random.normal(X_train.shape, 0.0, 0.1)\n",
    "\n",
    "print(\"Train X:{}\".format(X_train))\n",
    "print(\"Train Y:{}\".format(Y_train))"
   ]
  },
  {
   "cell_type": "markdown",
   "metadata": {},
   "source": [
    "##### Generate some test data\n",
    "\n",
    "Let's generate two more tensors for testing, in the same way."
   ]
  },
  {
   "cell_type": "code",
   "execution_count": 3,
   "metadata": {},
   "outputs": [
    {
     "name": "stdout",
     "output_type": "stream",
     "text": [
      "Test X:[10. 11. 12. 13. 14. 15. 16. 17. 18. 19.]\n",
      "Test Y:[34.912457 38.060413 40.98639  44.01878  47.043667 50.16562  53.15483\n",
      " 56.04199  59.243713 61.808945]\n"
     ]
    }
   ],
   "source": [
    "X_test=tf.constant(range(10, 20), dtype=tf.float32)\n",
    "Y_test=3 * X_test + 5 + tf.random.normal(X_test.shape, 0.0, 0.1)\n",
    "\n",
    "print(\"Test X:{}\".format(X_test))\n",
    "print(\"Test Y:{}\".format(Y_test))"
   ]
  },
  {
   "cell_type": "markdown",
   "metadata": {},
   "source": [
    "##### Define the model\n",
    "\n",
    "Let us define our model using a Python function as: $$Y = w_1 X + w_0$$"
   ]
  },
  {
   "cell_type": "code",
   "execution_count": 4,
   "metadata": {},
   "outputs": [],
   "source": [
    "def my_model(X, w0, w1):\n",
    "    return w1*X + w0"
   ]
  },
  {
   "cell_type": "markdown",
   "metadata": {},
   "source": [
    "##### Define the loss function\n",
    "\n",
    "Let us define a loss function to train the model. Since this is a regression problem, we'll use the Mean Squared Error (MSE) loss. Notice that the MSE is already defined in `tf.losses` and we could have used that, but here we're re-inventing the wheel to show you the entire process from scratch."
   ]
  },
  {
   "cell_type": "code",
   "execution_count": 14,
   "metadata": {},
   "outputs": [],
   "source": [
    "def loss_mse(Y_real, Y_pred):\n",
    "    return tf.reduce_mean((Y_real-Y_pred)**2)"
   ]
  },
  {
   "cell_type": "markdown",
   "metadata": {},
   "source": [
    "##### Define a training step\n",
    "\n",
    "Let us define a function that performs the forward and backward passes of gradient-based training. This function calculates the output of the model and the corresponding loss function (forward pass). Then it computes the gradient of the loss with respect to the model parameters `w0` and `w1` (backward pass)."
   ]
  },
  {
   "cell_type": "code",
   "execution_count": 19,
   "metadata": {},
   "outputs": [],
   "source": [
    "def compute_gradients(X, Y, w0, w1):\n",
    "    with tf.GradientTape() as tape:\n",
    "        Y_pred = my_model(X, w0, w1)\n",
    "        loss=loss_mse(Y, Y_pred)\n",
    "    return tape.gradient(loss, [w0, w1])"
   ]
  },
  {
   "cell_type": "markdown",
   "metadata": {},
   "source": [
    "##### Build the training loop\n",
    "\n",
    "Now let us put the pieces together to construct the training loop. First let us initialize some constants, such as the learning rate and the number of training steps to perform."
   ]
  },
  {
   "cell_type": "code",
   "execution_count": 20,
   "metadata": {},
   "outputs": [],
   "source": [
    "STEPS=1000\n",
    "LEARNING_RATE=.01"
   ]
  },
  {
   "cell_type": "markdown",
   "metadata": {},
   "source": [
    "Then let us declare two `tf.Variable` objects to store the values of our trainable weights. Remember: we initialize weights to 0 because this is linear regression. Never do so in a Neural Network."
   ]
  },
  {
   "cell_type": "code",
   "execution_count": 21,
   "metadata": {},
   "outputs": [],
   "source": [
    "w0=tf.Variable(0.0)\n",
    "w1=tf.Variable(0.0)"
   ]
  },
  {
   "cell_type": "markdown",
   "metadata": {},
   "source": [
    "Lastly, let us execute the training loop, printing the current status every 100 steps."
   ]
  },
  {
   "cell_type": "code",
   "execution_count": 23,
   "metadata": {},
   "outputs": [
    {
     "name": "stdout",
     "output_type": "stream",
     "text": [
      "Step 0, Loss: 17.512985229492188, w0: 0.5363239049911499, w1: 3.0500659942626953\n",
      "\n",
      "Step 100, Loss: 1.7104791402816772, w0: 2.4859352111816406, w1: 3.3939990997314453\n",
      "\n",
      "Step 200, Loss: 0.5557964444160461, w0: 3.534740924835205, w1: 3.226741313934326\n",
      "\n",
      "Step 300, Loss: 0.18378546833992004, w0: 4.130048751831055, w1: 3.1318047046661377\n",
      "\n",
      "Step 400, Loss: 0.06393183767795563, w0: 4.467950820922852, w1: 3.0779178142547607\n",
      "\n",
      "Step 500, Loss: 0.025318380445241928, w0: 4.6597442626953125, w1: 3.0473318099975586\n",
      "\n",
      "Step 600, Loss: 0.012878085486590862, w0: 4.768606185913086, w1: 3.02997088432312\n",
      "\n",
      "Step 700, Loss: 0.008870053105056286, w0: 4.8303985595703125, w1: 3.0201165676116943\n",
      "\n",
      "Step 800, Loss: 0.0075787706300616264, w0: 4.86547327041626, w1: 3.0145230293273926\n",
      "\n",
      "Step 900, Loss: 0.007162799593061209, w0: 4.885380744934082, w1: 3.011348247528076\n",
      "\n"
     ]
    }
   ],
   "source": [
    "for i in range(STEPS):\n",
    "    dw0, dw1 = compute_gradients(X_train, Y_train, w0, w1)\n",
    "    w0.assign_sub(dw0 * LEARNING_RATE)\n",
    "    w1.assign_sub(dw1 * LEARNING_RATE)\n",
    "\n",
    "    if i % 100 == 0:\n",
    "        Y_hat_train = my_model(X_train, w0, w1)\n",
    "        loss = loss_mse(Y_train, Y_hat_train)\n",
    "        print(\"Step {}, Loss: {}, w0: {}, w1: {}\\n\".format(i, loss, w0.numpy(), w1.numpy()))\n"
   ]
  },
  {
   "cell_type": "markdown",
   "metadata": {},
   "source": [
    "##### Analyze Results\n",
    "\n",
    "As you can see, the loss is decreasing as expected, and the values of `w1` and `w0` are approaching 5 and 3 respectively, which are those of the model used to generate the data.\n",
    "\n",
    "Notice that this is, again, a toy example, so we don't have mini-batches, validation sets, etc.\n",
    "\n",
    "Let us evaluate our loss on test data."
   ]
  },
  {
   "cell_type": "code",
   "execution_count": 26,
   "metadata": {},
   "outputs": [
    {
     "name": "stdout",
     "output_type": "stream",
     "text": [
      "0.014091331\n"
     ]
    }
   ],
   "source": [
    "Y_pred_test = my_model(X_test, w0, w1)\n",
    "loss=loss_mse(Y_test, Y_pred_test)\n",
    "print(loss.numpy())"
   ]
  },
  {
   "cell_type": "markdown",
   "metadata": {},
   "source": [
    "##### Visualize Results\n",
    "\n",
    "Finally, let us plot the real and predicted test samples."
   ]
  },
  {
   "cell_type": "code",
   "execution_count": 27,
   "metadata": {
    "scrolled": true
   },
   "outputs": [
    {
     "data": {
      "image/png": "[encoded data removed]",
      "text/plain": [
       "<Figure size 432x288 with 1 Axes>"
      ]
     },
     "metadata": {
      "needs_background": "light"
     },
     "output_type": "display_data"
    }
   ],
   "source": [
    "Y_hat_test = my_model(X_test, w0, w1)\n",
    "\n",
    "fig = plt.figure()\n",
    "ax = fig.add_subplot(111)\n",
    "\n",
    "ax.plot(X_test, Y_test, 'b*')\n",
    "ax.plot(X_test, Y_hat_test, 'r-')\n",
    "ax.legend(['Real', 'Predicted'])\n",
    "ax.set_xlabel('X')\n",
    "ax.set_ylabel('Y')\n",
    "plt.show()"
   ]
  },
  {
   "cell_type": "code",
   "execution_count": null,
   "metadata": {},
   "outputs": [],
   "source": []
  }
 ],
 "metadata": {
  "kernelspec": {
   "display_name": "Python 3 (ipykernel)",
   "language": "python",
   "name": "python3"
  },
  "language_info": {
   "codemirror_mode": {
    "name": "ipython",
    "version": 3
   },
   "file_extension": ".py",
   "mimetype": "text/x-python",
   "name": "python",
   "nbconvert_exporter": "python",
   "pygments_lexer": "ipython3",
   "version": "3.8.10"
  }
 },
 "nbformat": 4,
 "nbformat_minor": 4
}
