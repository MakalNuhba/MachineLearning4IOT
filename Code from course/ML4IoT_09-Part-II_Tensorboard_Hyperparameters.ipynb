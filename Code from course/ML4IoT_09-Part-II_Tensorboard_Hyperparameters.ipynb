{
 "cells": [
  {
   "cell_type": "markdown",
   "metadata": {},
   "source": [
    "# TensorBoard HyperParameters Logging\n",
    "\n",
    "Source: https://www.tensorflow.org/tensorboard/hyperparameter_tuning_with_hparams\n",
    "\n",
    "In this notebook, we'll use TensorBoard to compare multiple training runs with different hyper-parameters settings. Let us start by adding the TB extension to jupyter and clearing the logs directory."
   ]
  },
  {
   "cell_type": "code",
   "execution_count": 1,
   "metadata": {},
   "outputs": [],
   "source": [
    "# Load the TensorBoard notebook extension\n",
    "%load_ext tensorboard\n",
    "\n",
    "# Clear any logs from previous runs\n",
    "!rm -rf ./tb_log/ "
   ]
  },
  {
   "cell_type": "markdown",
   "metadata": {},
   "source": [
    "Now let's import the required modules. We'll use the `hparams` plugin of Keras to explore hyper-parameters settings. This plugin has several other functionalities not touched in this example."
   ]
  },
  {
   "cell_type": "code",
   "execution_count": 2,
   "metadata": {},
   "outputs": [
    {
     "name": "stderr",
     "output_type": "stream",
     "text": [
      "2021-12-22 12:24:21.419584: W tensorflow/stream_executor/platform/default/dso_loader.cc:64] Could not load dynamic library 'libcudart.so.11.0'; dlerror: libcudart.so.11.0: cannot open shared object file: No such file or directory\n",
      "2021-12-22 12:24:21.419611: I tensorflow/stream_executor/cuda/cudart_stub.cc:29] Ignore above cudart dlerror if you do not have a GPU set up on your machine.\n"
     ]
    }
   ],
   "source": [
    "import tensorflow as tf\n",
    "from tensorflow import keras\n",
    "from tensorboard.plugins.hparams import api as hp"
   ]
  },
  {
   "cell_type": "markdown",
   "metadata": {},
   "source": [
    "##### Load the dataset\n",
    "\n",
    "We'll use again Fashion MNIST for this example."
   ]
  },
  {
   "cell_type": "code",
   "execution_count": 3,
   "metadata": {},
   "outputs": [],
   "source": [
    "fashion_mnist = keras.datasets.fashion_mnist\n",
    "\n",
    "(x_train, y_train),(x_test, y_test) = fashion_mnist.load_data()\n",
    "x_train, x_test = x_train / 255.0, x_test / 255.0\n"
   ]
  },
  {
   "cell_type": "markdown",
   "metadata": {},
   "source": [
    "##### Build the model\n",
    "\n",
    "We'll use a function to build a different version of the model based on some hyperparameters. In particular, we'll use only two hyperparameters here for simplicity:\n",
    "- The number of units in the first fully-connected layer of our NN (`hparams['num_units']`)\n",
    "- The dropout rate of that same layer (`hparams['dropout']`)"
   ]
  },
  {
   "cell_type": "code",
   "execution_count": 4,
   "metadata": {},
   "outputs": [],
   "source": [
    "def try_hp_setting(hparams):\n",
    "    model = keras.models.Sequential([\n",
    "        keras.layers.Flatten(),\n",
    "        keras.layers.Dense(hparams['num_units'], activation=tf.nn.relu),\n",
    "        keras.layers.Dropout(hparams['dropout']),\n",
    "        keras.layers.Dense(10, activation=tf.nn.softmax),\n",
    "    ])\n",
    "\n",
    "    model.compile(optimizer='adam', loss='sparse_categorical_crossentropy', metrics=['accuracy'])\n",
    "    return model"
   ]
  },
  {
   "cell_type": "markdown",
   "metadata": {},
   "source": [
    "##### Train the model\n",
    "\n",
    "We'll train the model multiple times for different settings of the two hyper-parameters. Each run will be identified by an index (`session_num`). The corresponding logs will be saved in a separate sub-folder for TensorBoard.\n",
    "\n",
    "The Keras `hparams` plugin has a dedicated callback (`hp.KerasCallback`) which logs the values of the hyper-parameters passed as input associated with each run."
   ]
  },
  {
   "cell_type": "code",
   "execution_count": 5,
   "metadata": {},
   "outputs": [],
   "source": [
    "session_num = 0"
   ]
  },
  {
   "cell_type": "code",
   "execution_count": 6,
   "metadata": {},
   "outputs": [
    {
     "name": "stdout",
     "output_type": "stream",
     "text": [
      "--- Starting trial: run-0\n",
      "{'num_units': 16, 'dropout': 0.1}\n"
     ]
    },
    {
     "name": "stderr",
     "output_type": "stream",
     "text": [
      "2021-12-22 12:24:23.611826: W tensorflow/stream_executor/platform/default/dso_loader.cc:64] Could not load dynamic library 'libcuda.so.1'; dlerror: libcuda.so.1: cannot open shared object file: No such file or directory\n",
      "2021-12-22 12:24:23.611854: W tensorflow/stream_executor/cuda/cuda_driver.cc:269] failed call to cuInit: UNKNOWN ERROR (303)\n",
      "2021-12-22 12:24:23.611878: I tensorflow/stream_executor/cuda/cuda_diagnostics.cc:156] kernel driver does not appear to be running on this host (matteo-Inspiron-7591-2n1): /proc/driver/nvidia/version does not exist\n",
      "2021-12-22 12:24:23.612087: I tensorflow/core/platform/cpu_feature_guard.cc:151] This TensorFlow binary is optimized with oneAPI Deep Neural Network Library (oneDNN) to use the following CPU instructions in performance-critical operations:  AVX2 FMA\n",
      "To enable them in other operations, rebuild TensorFlow with the appropriate compiler flags.\n",
      "2021-12-22 12:24:23.844730: W tensorflow/core/framework/cpu_allocator_impl.cc:82] Allocation of 169344000 exceeds 10% of free system memory.\n"
     ]
    },
    {
     "name": "stdout",
     "output_type": "stream",
     "text": [
      "Epoch 1/10\n",
      "1688/1688 [==============================] - 2s 889us/step - loss: 0.7031 - accuracy: 0.7601 - val_loss: 0.4688 - val_accuracy: 0.8298\n",
      "Epoch 2/10\n",
      "1688/1688 [==============================] - 1s 792us/step - loss: 0.5025 - accuracy: 0.8226 - val_loss: 0.4381 - val_accuracy: 0.8443\n",
      "Epoch 3/10\n",
      "1688/1688 [==============================] - 1s 812us/step - loss: 0.4645 - accuracy: 0.8361 - val_loss: 0.4061 - val_accuracy: 0.8562\n",
      "Epoch 4/10\n",
      "1688/1688 [==============================] - 1s 757us/step - loss: 0.4444 - accuracy: 0.8401 - val_loss: 0.4008 - val_accuracy: 0.8557\n",
      "Epoch 5/10\n",
      "1688/1688 [==============================] - 1s 793us/step - loss: 0.4335 - accuracy: 0.8422 - val_loss: 0.4022 - val_accuracy: 0.8533\n",
      "Epoch 6/10\n",
      "1688/1688 [==============================] - 1s 805us/step - loss: 0.4275 - accuracy: 0.8455 - val_loss: 0.3964 - val_accuracy: 0.8555\n",
      "Epoch 7/10\n",
      "1688/1688 [==============================] - 1s 803us/step - loss: 0.4145 - accuracy: 0.8499 - val_loss: 0.3985 - val_accuracy: 0.8590\n",
      "Epoch 8/10\n",
      "1688/1688 [==============================] - 1s 883us/step - loss: 0.4126 - accuracy: 0.8493 - val_loss: 0.3971 - val_accuracy: 0.8597\n",
      "Epoch 9/10\n",
      "1688/1688 [==============================] - 2s 1ms/step - loss: 0.4072 - accuracy: 0.8509 - val_loss: 0.3767 - val_accuracy: 0.8650\n",
      "Epoch 10/10\n",
      "1688/1688 [==============================] - 2s 1ms/step - loss: 0.4024 - accuracy: 0.8547 - val_loss: 0.3792 - val_accuracy: 0.8687\n",
      "--- Starting trial: run-1\n",
      "{'num_units': 16, 'dropout': 0.5}\n"
     ]
    },
    {
     "name": "stderr",
     "output_type": "stream",
     "text": [
      "2021-12-22 12:24:38.953444: W tensorflow/core/framework/cpu_allocator_impl.cc:82] Allocation of 169344000 exceeds 10% of free system memory.\n"
     ]
    },
    {
     "name": "stdout",
     "output_type": "stream",
     "text": [
      "Epoch 1/10\n",
      "1688/1688 [==============================] - 2s 1ms/step - loss: 1.1691 - accuracy: 0.5585 - val_loss: 0.6193 - val_accuracy: 0.8102\n",
      "Epoch 2/10\n",
      "1688/1688 [==============================] - 2s 1ms/step - loss: 0.9464 - accuracy: 0.6459 - val_loss: 0.5647 - val_accuracy: 0.8188\n",
      "Epoch 3/10\n",
      "1688/1688 [==============================] - 2s 1ms/step - loss: 0.8952 - accuracy: 0.6631 - val_loss: 0.5338 - val_accuracy: 0.8160\n",
      "Epoch 4/10\n",
      "1688/1688 [==============================] - 2s 1ms/step - loss: 0.8730 - accuracy: 0.6716 - val_loss: 0.5085 - val_accuracy: 0.8257\n",
      "Epoch 5/10\n",
      "1688/1688 [==============================] - 2s 1ms/step - loss: 0.8660 - accuracy: 0.6721 - val_loss: 0.5093 - val_accuracy: 0.8273\n",
      "Epoch 6/10\n",
      "1688/1688 [==============================] - 2s 986us/step - loss: 0.8617 - accuracy: 0.6759 - val_loss: 0.5098 - val_accuracy: 0.8225\n",
      "Epoch 7/10\n",
      "1688/1688 [==============================] - 2s 1ms/step - loss: 0.8460 - accuracy: 0.6826 - val_loss: 0.5154 - val_accuracy: 0.8317\n",
      "Epoch 8/10\n",
      "1688/1688 [==============================] - 2s 1ms/step - loss: 0.8469 - accuracy: 0.6830 - val_loss: 0.5178 - val_accuracy: 0.8263\n",
      "Epoch 9/10\n",
      "1688/1688 [==============================] - 2s 1ms/step - loss: 0.8375 - accuracy: 0.6896 - val_loss: 0.4920 - val_accuracy: 0.8322\n",
      "Epoch 10/10\n",
      "1688/1688 [==============================] - 2s 1ms/step - loss: 0.8118 - accuracy: 0.6966 - val_loss: 0.5129 - val_accuracy: 0.8337\n",
      "--- Starting trial: run-2\n",
      "{'num_units': 64, 'dropout': 0.1}\n"
     ]
    },
    {
     "name": "stderr",
     "output_type": "stream",
     "text": [
      "2021-12-22 12:24:57.269231: W tensorflow/core/framework/cpu_allocator_impl.cc:82] Allocation of 169344000 exceeds 10% of free system memory.\n"
     ]
    },
    {
     "name": "stdout",
     "output_type": "stream",
     "text": [
      "Epoch 1/10\n",
      "1688/1688 [==============================] - 2s 1ms/step - loss: 0.5690 - accuracy: 0.8029 - val_loss: 0.4168 - val_accuracy: 0.8523\n",
      "Epoch 2/10\n",
      "1688/1688 [==============================] - 2s 1ms/step - loss: 0.4180 - accuracy: 0.8511 - val_loss: 0.3946 - val_accuracy: 0.8590\n",
      "Epoch 3/10\n",
      "1688/1688 [==============================] - 2s 1ms/step - loss: 0.3798 - accuracy: 0.8629 - val_loss: 0.3713 - val_accuracy: 0.8640\n",
      "Epoch 4/10\n",
      "1688/1688 [==============================] - 2s 946us/step - loss: 0.3570 - accuracy: 0.8699 - val_loss: 0.3529 - val_accuracy: 0.8710\n",
      "Epoch 5/10\n",
      "1688/1688 [==============================] - 2s 940us/step - loss: 0.3425 - accuracy: 0.8749 - val_loss: 0.3488 - val_accuracy: 0.8733\n",
      "Epoch 6/10\n",
      "1688/1688 [==============================] - 2s 1ms/step - loss: 0.3316 - accuracy: 0.8785 - val_loss: 0.3420 - val_accuracy: 0.8793\n",
      "Epoch 7/10\n",
      "1688/1688 [==============================] - 2s 1ms/step - loss: 0.3176 - accuracy: 0.8836 - val_loss: 0.3294 - val_accuracy: 0.8828\n",
      "Epoch 8/10\n",
      "1688/1688 [==============================] - 2s 1ms/step - loss: 0.3096 - accuracy: 0.8870 - val_loss: 0.3310 - val_accuracy: 0.8820\n",
      "Epoch 9/10\n",
      "1688/1688 [==============================] - 2s 1ms/step - loss: 0.3025 - accuracy: 0.8884 - val_loss: 0.3244 - val_accuracy: 0.8832\n",
      "Epoch 10/10\n",
      "1688/1688 [==============================] - 2s 1ms/step - loss: 0.2929 - accuracy: 0.8921 - val_loss: 0.3392 - val_accuracy: 0.8812\n",
      "--- Starting trial: run-3\n",
      "{'num_units': 64, 'dropout': 0.5}\n"
     ]
    },
    {
     "name": "stderr",
     "output_type": "stream",
     "text": [
      "2021-12-22 12:25:16.600845: W tensorflow/core/framework/cpu_allocator_impl.cc:82] Allocation of 169344000 exceeds 10% of free system memory.\n"
     ]
    },
    {
     "name": "stdout",
     "output_type": "stream",
     "text": [
      "Epoch 1/10\n",
      "1688/1688 [==============================] - 3s 1ms/step - loss: 0.7323 - accuracy: 0.7426 - val_loss: 0.4815 - val_accuracy: 0.8173\n",
      "Epoch 2/10\n",
      "1688/1688 [==============================] - 2s 1ms/step - loss: 0.5519 - accuracy: 0.8053 - val_loss: 0.4185 - val_accuracy: 0.8440\n",
      "Epoch 3/10\n",
      "1688/1688 [==============================] - 2s 1ms/step - loss: 0.5119 - accuracy: 0.8162 - val_loss: 0.4186 - val_accuracy: 0.8432\n",
      "Epoch 4/10\n",
      "1688/1688 [==============================] - 2s 1ms/step - loss: 0.4907 - accuracy: 0.8231 - val_loss: 0.3919 - val_accuracy: 0.8570\n",
      "Epoch 5/10\n",
      "1688/1688 [==============================] - 2s 1ms/step - loss: 0.4779 - accuracy: 0.8270 - val_loss: 0.3772 - val_accuracy: 0.8603\n",
      "Epoch 6/10\n",
      "1688/1688 [==============================] - 2s 1ms/step - loss: 0.4689 - accuracy: 0.8301 - val_loss: 0.3750 - val_accuracy: 0.8647\n",
      "Epoch 7/10\n",
      "1688/1688 [==============================] - 2s 1ms/step - loss: 0.4568 - accuracy: 0.8339 - val_loss: 0.3803 - val_accuracy: 0.8572\n",
      "Epoch 8/10\n",
      "1688/1688 [==============================] - 2s 950us/step - loss: 0.4537 - accuracy: 0.8349 - val_loss: 0.3730 - val_accuracy: 0.8623\n",
      "Epoch 9/10\n",
      "1688/1688 [==============================] - 2s 957us/step - loss: 0.4418 - accuracy: 0.8394 - val_loss: 0.3786 - val_accuracy: 0.8590\n",
      "Epoch 10/10\n",
      "1688/1688 [==============================] - 2s 950us/step - loss: 0.4379 - accuracy: 0.8399 - val_loss: 0.3703 - val_accuracy: 0.8643\n"
     ]
    }
   ],
   "source": [
    "# for num_units in [512, 1024]:\n",
    "for num_units in [16, 64]:\n",
    "  for dropout_rate in [0.1, 0.5]:\n",
    "        hparams = {'num_units': num_units, 'dropout': dropout_rate}\n",
    "        run_name = \"run-%d\" % session_num\n",
    "        print('--- Starting trial: %s' % run_name)\n",
    "        print(hparams)\n",
    "    \n",
    "        log_dir = 'tb_log/hparam_tuning/' + run_name\n",
    "        tb_callback = tf.keras.callbacks.TensorBoard(log_dir)\n",
    "        hp_callback = hp.KerasCallback(log_dir, hparams)\n",
    "    \n",
    "        model = try_hp_setting(hparams)\n",
    "        model.fit(x_train, y_train, validation_split=0.1, epochs=10, callbacks=[tb_callback, hp_callback])\n",
    "        session_num += 1"
   ]
  },
  {
   "cell_type": "markdown",
   "metadata": {},
   "source": [
    "##### Start Tensorboard\n",
    "\n",
    "Let's start tensorboard and see the results of this experiment. We can clearly inspect the scalar logs as seen in the previous notebook. However, the `HPARAMS` tab provides a more useful visualization."
   ]
  },
  {
   "cell_type": "code",
   "execution_count": 7,
   "metadata": {},
   "outputs": [
    {
     "data": {
      "text/html": [
       "\n",
       "      <iframe id=\"tensorboard-frame-71358633d1adecc7\" width=\"100%\" height=\"800\" frameborder=\"0\">\n",
       "      </iframe>\n",
       "      <script>\n",
       "        (function() {\n",
       "          const frame = document.getElementById(\"tensorboard-frame-71358633d1adecc7\");\n",
       "          const url = new URL(\"/\", window.location);\n",
       "          const port = 6008;\n",
       "          if (port) {\n",
       "            url.port = port;\n",
       "          }\n",
       "          frame.src = url;\n",
       "        })();\n",
       "      </script>\n",
       "    "
      ],
      "text/plain": [
       "<IPython.core.display.HTML object>"
      ]
     },
     "metadata": {},
     "output_type": "display_data"
    }
   ],
   "source": [
    "%tensorboard --logdir './tb_log'"
   ]
  }
 ],
 "metadata": {
  "kernelspec": {
   "display_name": "Python 3 (ipykernel)",
   "language": "python",
   "name": "python3"
  },
  "language_info": {
   "codemirror_mode": {
    "name": "ipython",
    "version": 3
   },
   "file_extension": ".py",
   "mimetype": "text/x-python",
   "name": "python",
   "nbconvert_exporter": "python",
   "pygments_lexer": "ipython3",
   "version": "3.8.10"
  }
 },
 "nbformat": 4,
 "nbformat_minor": 4
}
