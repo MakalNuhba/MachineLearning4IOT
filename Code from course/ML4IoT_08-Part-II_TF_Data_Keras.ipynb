{
 "cells": [
  {
   "cell_type": "markdown",
   "metadata": {},
   "source": [
    "# The TensorFlow Dataset API\n",
    "\n",
    "Source: https://www.tensorflow.org/guide/data\n",
    "\n",
    "In this notebook, we'll see some examples of using the `tf.data.Dataset` API to build input pipelines."
   ]
  },
  {
   "cell_type": "markdown",
   "metadata": {},
   "source": [
    "### Training with `tf.Dataset` and Keras\n",
    "\n",
    "When you call `fit()` on a Keras model, you can specify a `tf.Dataset` instead of two separate sets of X and Y tensors. If the dataset is batched, you don't need to specify a `batch_size` parameter in `fit()`. When using Keras, your `Dataset` should not be `repeated` indefinitely (the repetition is added by Keras internally)."
   ]
  },
  {
   "cell_type": "code",
   "execution_count": null,
   "metadata": {},
   "outputs": [],
   "source": [
    "train, test = keras.datasets.fashion_mnist.load_data()\n",
    "\n",
    "train_ds = tf.data.Dataset.from_tensor_slices(train).shuffle(len(train)).batch(32)\n",
    "test_ds = tf.data.Dataset.from_tensor_slices(test).shuffle(len(test)).batch(32)"
   ]
  },
  {
   "cell_type": "code",
   "execution_count": null,
   "metadata": {},
   "outputs": [],
   "source": [
    "model = keras.Sequential([\n",
    "    keras.layers.Flatten(input_shape=(28, 28)),\n",
    "    keras.layers.Dense(100, activation='relu'),\n",
    "    keras.layers.Dense(10),\n",
    "])\n",
    "\n",
    "model.compile(optimizer='adam',\n",
    "              loss=tf.keras.losses.SparseCategoricalCrossentropy(from_logits=True),\n",
    "              metrics=['accuracy'])"
   ]
  },
  {
   "cell_type": "code",
   "execution_count": null,
   "metadata": {},
   "outputs": [],
   "source": [
    "# batch size is automatically determined\n",
    "model.fit(train_ds, epochs=10)"
   ]
  },
  {
   "cell_type": "code",
   "execution_count": null,
   "metadata": {},
   "outputs": [],
   "source": []
  }
 ],
 "metadata": {
  "kernelspec": {
   "display_name": "Python 3 (ipykernel)",
   "language": "python",
   "name": "python3"
  },
  "language_info": {
   "codemirror_mode": {
    "name": "ipython",
    "version": 3
   },
   "file_extension": ".py",
   "mimetype": "text/x-python",
   "name": "python",
   "nbconvert_exporter": "python",
   "pygments_lexer": "ipython3",
   "version": "3.8.10"
  }
 },
 "nbformat": 4,
 "nbformat_minor": 4
}
