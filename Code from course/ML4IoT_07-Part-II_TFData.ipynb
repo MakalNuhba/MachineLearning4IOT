{
 "cells": [
  {
   "cell_type": "markdown",
   "metadata": {},
   "source": [
    "# The TensorFlow Dataset API\n",
    "\n",
    "Source: https://www.tensorflow.org/guide/data\n",
    "\n",
    "In this notebook, we'll see some examples of using the `tf.data.Dataset` API to build input pipelines."
   ]
  },
  {
   "cell_type": "code",
   "execution_count": 1,
   "metadata": {},
   "outputs": [],
   "source": [
    "import tensorflow as tf\n",
    "from tensorflow import keras\n",
    "\n",
    "import pandas as pd\n",
    "import os\n",
    "\n",
    "import matplotlib.pyplot as plt"
   ]
  },
  {
   "cell_type": "markdown",
   "metadata": {},
   "source": [
    "### Create Datasets from In-memory Tensors\n",
    "\n",
    "The easiest way to create datasets is starting from in-memory data (Python lists, Numpy arrays, TF tensors, etc.)"
   ]
  },
  {
   "cell_type": "code",
   "execution_count": 2,
   "metadata": {},
   "outputs": [
    {
     "name": "stdout",
     "output_type": "stream",
     "text": [
      "8\n",
      "3\n",
      "0\n",
      "8\n",
      "2\n",
      "1\n"
     ]
    }
   ],
   "source": [
    "dataset = tf.data.Dataset.from_tensor_slices([8, 3, 0, 8, 2, 1])\n",
    "\n",
    "for d in dataset:\n",
    "    print(d.numpy())"
   ]
  },
  {
   "cell_type": "markdown",
   "metadata": {},
   "source": [
    "##### Iterate over datasets\n",
    "\n",
    "We can also iteate on datasets using the Python `iter()` construct."
   ]
  },
  {
   "cell_type": "code",
   "execution_count": 3,
   "metadata": {
    "scrolled": true
   },
   "outputs": [
    {
     "name": "stdout",
     "output_type": "stream",
     "text": [
      "8\n",
      "3\n"
     ]
    }
   ],
   "source": [
    "it = iter(dataset)\n",
    "print(next(it).numpy())\n",
    "print(next(it).numpy())"
   ]
  },
  {
   "cell_type": "code",
   "execution_count": 4,
   "metadata": {},
   "outputs": [
    {
     "name": "stdout",
     "output_type": "stream",
     "text": [
      "0\n"
     ]
    }
   ],
   "source": [
    "print(next(it).numpy())"
   ]
  },
  {
   "cell_type": "code",
   "execution_count": 5,
   "metadata": {},
   "outputs": [
    {
     "name": "stdout",
     "output_type": "stream",
     "text": [
      "tf.Tensor(8, shape=(), dtype=int32)\n"
     ]
    }
   ],
   "source": [
    "print(next(it))"
   ]
  },
  {
   "cell_type": "markdown",
   "metadata": {},
   "source": [
    "##### Inspect the type of each element\n",
    "\n",
    "We can inspect the type of each dataset element as follows. In this example, each element is a rank-1 tensor of length 10 and type `float32`."
   ]
  },
  {
   "cell_type": "code",
   "execution_count": 6,
   "metadata": {},
   "outputs": [],
   "source": [
    "randmat = tf.random.uniform([4, 10, 10])"
   ]
  },
  {
   "cell_type": "code",
   "execution_count": 7,
   "metadata": {},
   "outputs": [
    {
     "name": "stdout",
     "output_type": "stream",
     "text": [
      "tf.Tensor(\n",
      "[[[6.29670858e-01 4.96640563e-01 7.93827534e-01 7.21094728e-01\n",
      "   2.51464009e-01 2.46715903e-01 6.52448177e-01 3.27775002e-01\n",
      "   4.54808235e-01 5.16287565e-01]\n",
      "  [3.04408908e-01 1.62420511e-01 6.77303314e-01 5.22068024e-01\n",
      "   3.09735894e-01 5.89093566e-01 6.45209789e-01 4.47520733e-01\n",
      "   3.69645119e-01 5.08854032e-01]\n",
      "  [3.05658817e-01 4.88764524e-01 5.74512720e-01 4.14518595e-01\n",
      "   1.91118717e-02 9.76248980e-02 9.66540813e-01 1.86642647e-01\n",
      "   5.80831647e-01 1.00138187e-02]\n",
      "  [8.90129566e-01 6.11931920e-01 3.56985331e-02 9.41984057e-01\n",
      "   1.13669038e-01 5.72372198e-01 9.02679920e-01 8.30115795e-01\n",
      "   2.64541507e-01 3.27087402e-01]\n",
      "  [5.65407991e-01 5.95259905e-01 1.22643828e-01 9.72690701e-01\n",
      "   8.76479387e-01 7.13168740e-01 7.43783832e-01 1.43917561e-01\n",
      "   8.74769807e-01 2.92264104e-01]\n",
      "  [6.50773764e-01 1.88569069e-01 9.48016644e-02 8.19424033e-01\n",
      "   9.67992902e-01 9.84224677e-01 3.32454324e-01 8.37034225e-01\n",
      "   2.22767711e-01 5.10342479e-01]\n",
      "  [5.97027659e-01 8.93561840e-01 5.95677733e-01 2.89969802e-01\n",
      "   2.14165688e-01 4.37617302e-03 4.52798963e-01 4.99017596e-01\n",
      "   7.93438315e-01 2.58246660e-01]\n",
      "  [8.43953967e-01 4.73899126e-01 7.19189167e-01 5.25748372e-01\n",
      "   2.45030642e-01 5.47003269e-01 7.85288811e-02 2.27819085e-01\n",
      "   1.09845638e-01 4.75401282e-01]\n",
      "  [8.98177743e-01 3.28886271e-01 2.92122126e-01 9.32126522e-01\n",
      "   4.67022657e-02 9.75149035e-01 5.48487663e-01 9.02102590e-01\n",
      "   4.50579286e-01 9.29195166e-01]\n",
      "  [6.39338970e-01 1.63327217e-01 7.20814347e-01 9.91688371e-01\n",
      "   7.45520353e-01 6.75089478e-01 3.56280804e-01 5.98429561e-01\n",
      "   7.20274448e-01 8.09888721e-01]]\n",
      "\n",
      " [[8.58236670e-01 6.26505136e-01 2.85260797e-01 4.76270437e-01\n",
      "   5.75098276e-01 2.70281553e-01 4.43147063e-01 4.22851801e-01\n",
      "   3.92859697e-01 3.57843041e-01]\n",
      "  [6.12362027e-01 2.22700238e-01 9.94947195e-01 3.85426283e-02\n",
      "   3.66588950e-01 3.72275829e-01 2.36281037e-01 8.01935792e-01\n",
      "   7.61923075e-01 4.72522974e-01]\n",
      "  [5.79662442e-01 8.20437670e-01 7.14825988e-01 2.67466068e-01\n",
      "   2.89353371e-01 6.71299338e-01 4.48007703e-01 2.15128660e-02\n",
      "   8.77840877e-01 2.53954887e-01]\n",
      "  [5.32032013e-01 8.49604249e-01 7.31133223e-02 3.67946625e-01\n",
      "   8.51649523e-01 7.33273625e-01 7.63548851e-01 7.45168567e-01\n",
      "   3.52996588e-02 5.21105051e-01]\n",
      "  [5.13560534e-01 5.37141919e-01 7.10964203e-04 1.11619711e-01\n",
      "   3.75677705e-01 3.24525476e-01 6.22853398e-01 8.26982498e-01\n",
      "   1.45936012e-03 2.80435205e-01]\n",
      "  [8.07227850e-01 3.51407170e-01 4.88496900e-01 9.44218636e-02\n",
      "   5.71562052e-01 3.79759550e-01 1.09418631e-02 5.58148861e-01\n",
      "   2.62701631e-01 2.87595034e-01]\n",
      "  [4.46023226e-01 9.90163684e-01 9.27790523e-01 2.45341063e-01\n",
      "   2.76578188e-01 3.76099467e-01 7.88887858e-01 2.03073621e-01\n",
      "   1.15041852e-01 9.51590776e-01]\n",
      "  [5.65943718e-02 5.21827817e-01 2.30083108e-01 5.17771721e-01\n",
      "   7.23916173e-01 2.84800529e-01 1.66401625e-01 4.30352569e-01\n",
      "   1.73449278e-01 6.68696165e-01]\n",
      "  [3.30457687e-02 3.19799185e-01 3.66761684e-01 6.55007839e-01\n",
      "   3.44718575e-01 6.75008774e-01 1.02758169e-01 7.16069937e-02\n",
      "   6.57069802e-01 1.66461587e-01]\n",
      "  [3.38123918e-01 5.13114452e-01 5.59858322e-01 4.29883957e-01\n",
      "   9.35575128e-01 6.49386406e-01 2.09140658e-01 3.12852859e-03\n",
      "   1.72510982e-01 9.38831687e-01]]\n",
      "\n",
      " [[8.83481026e-01 4.30833101e-01 2.22109437e-01 2.20089793e-01\n",
      "   3.33071947e-02 1.60528779e-01 2.12215781e-01 2.74043083e-01\n",
      "   9.50128913e-01 6.70680523e-01]\n",
      "  [1.14032030e-02 4.09026861e-01 1.01978540e-01 3.04710984e-01\n",
      "   7.13555932e-01 7.68312693e-01 4.73338842e-01 5.89202404e-01\n",
      "   2.07076311e-01 6.89123511e-01]\n",
      "  [2.03619003e-01 9.55510497e-01 3.38176131e-01 2.87240386e-01\n",
      "   8.94773245e-01 1.49013519e-01 3.80220652e-01 1.10923290e-01\n",
      "   4.01829600e-01 3.52441192e-01]\n",
      "  [2.34338403e-01 2.95104504e-01 9.90965605e-01 1.26733780e-02\n",
      "   7.09579587e-01 2.25564003e-01 3.60235572e-01 8.86491299e-01\n",
      "   4.37994242e-01 4.52934384e-01]\n",
      "  [2.47267604e-01 2.74595022e-01 9.07495022e-01 7.31166482e-01\n",
      "   9.83487606e-01 3.91244173e-01 6.84838891e-01 3.65106344e-01\n",
      "   3.51962209e-01 6.96835876e-01]\n",
      "  [7.76281953e-01 7.05785394e-01 9.21640635e-01 2.34026909e-01\n",
      "   9.38384652e-01 2.62205720e-01 7.77277470e-01 4.45435882e-01\n",
      "   2.04712629e-01 9.39087152e-01]\n",
      "  [2.20362663e-01 7.58203268e-01 8.68347168e-01 2.91573882e-01\n",
      "   5.53773761e-01 3.23645711e-01 3.28470826e-01 7.69250393e-01\n",
      "   1.66269064e-01 4.55757380e-02]\n",
      "  [7.79447556e-01 7.76361465e-01 2.58266211e-01 9.36836004e-01\n",
      "   4.48727131e-01 4.16520238e-01 4.25578475e-01 3.41901541e-01\n",
      "   4.40357804e-01 6.71641827e-01]\n",
      "  [1.74950600e-01 7.01348901e-01 5.03458023e-01 2.74676800e-01\n",
      "   7.63471603e-01 5.15602469e-01 4.38440084e-01 4.36077833e-01\n",
      "   3.35284352e-01 4.46922421e-01]\n",
      "  [7.56812215e-01 9.60974455e-01 7.41922855e-02 4.14557219e-01\n",
      "   3.09849381e-01 9.04089332e-01 7.45126843e-01 7.90913105e-02\n",
      "   7.32389688e-02 3.17438245e-01]]\n",
      "\n",
      " [[4.34024692e-01 1.08029604e-01 2.59384394e-01 1.48746967e-01\n",
      "   2.38314986e-01 5.86184740e-01 8.05396914e-01 8.34925771e-01\n",
      "   8.58614445e-02 8.29472542e-01]\n",
      "  [8.24887991e-01 4.78222489e-01 9.99691725e-01 8.40683579e-01\n",
      "   4.36187744e-01 4.20527339e-01 4.72669601e-01 4.84753609e-01\n",
      "   7.95150876e-01 2.85559058e-01]\n",
      "  [1.11028194e-01 4.37050939e-01 8.50296617e-01 4.35421944e-01\n",
      "   4.50808406e-01 4.89303112e-01 3.13281894e-01 3.09189796e-01\n",
      "   2.54749775e-01 9.19256568e-01]\n",
      "  [9.66410160e-01 7.00497389e-01 3.31598282e-01 5.22791982e-01\n",
      "   9.00780916e-01 2.36415863e-01 6.19472504e-01 6.59520745e-01\n",
      "   2.38016009e-01 8.89679551e-01]\n",
      "  [8.77130151e-01 9.96157169e-01 8.57225657e-02 2.16529489e-01\n",
      "   1.04786158e-02 3.03606510e-01 3.71342778e-01 7.68285513e-01\n",
      "   7.46793151e-01 8.61920476e-01]\n",
      "  [7.28185296e-01 7.62782335e-01 3.78621340e-01 1.15586400e-01\n",
      "   8.43283176e-01 9.47856784e-01 9.67971444e-01 8.25386763e-01\n",
      "   6.80382252e-02 5.28959394e-01]\n",
      "  [2.83901691e-02 1.41152620e-01 3.65520597e-01 7.44648457e-01\n",
      "   8.98831487e-01 6.84603095e-01 6.03571534e-01 5.46226501e-01\n",
      "   8.17257166e-01 4.84164596e-01]\n",
      "  [3.56728673e-01 2.38288283e-01 7.50517964e-01 1.71818137e-01\n",
      "   1.00345373e-01 9.61814761e-01 6.46401048e-01 7.02941895e-01\n",
      "   8.94680023e-01 5.67495227e-01]\n",
      "  [5.80848575e-01 7.38255501e-01 4.62721586e-02 5.87925076e-01\n",
      "   4.03654695e-01 3.48433256e-01 9.10225511e-01 8.27994347e-01\n",
      "   6.77643180e-01 5.86848021e-01]\n",
      "  [1.58926606e-01 4.01335120e-01 9.65017319e-01 9.42337513e-01\n",
      "   9.49130535e-01 1.01740360e-02 9.18996334e-01 8.89736533e-01\n",
      "   3.66255403e-01 4.43397403e-01]]], shape=(4, 10, 10), dtype=float32)\n"
     ]
    }
   ],
   "source": [
    "print(randmat)"
   ]
  },
  {
   "cell_type": "code",
   "execution_count": 8,
   "metadata": {},
   "outputs": [],
   "source": [
    "dataset1 = tf.data.Dataset.from_tensor_slices(randmat)"
   ]
  },
  {
   "cell_type": "code",
   "execution_count": 9,
   "metadata": {},
   "outputs": [
    {
     "data": {
      "text/plain": [
       "TensorSpec(shape=(10, 10), dtype=tf.float32, name=None)"
      ]
     },
     "execution_count": 9,
     "metadata": {},
     "output_type": "execute_result"
    }
   ],
   "source": [
    "dataset1.element_spec"
   ]
  },
  {
   "cell_type": "code",
   "execution_count": 10,
   "metadata": {
    "scrolled": true
   },
   "outputs": [
    {
     "name": "stdout",
     "output_type": "stream",
     "text": [
      "tf.Tensor(\n",
      "[[0.62967086 0.49664056 0.79382753 0.7210947  0.251464   0.2467159\n",
      "  0.6524482  0.327775   0.45480824 0.51628757]\n",
      " [0.3044089  0.16242051 0.6773033  0.522068   0.3097359  0.58909357\n",
      "  0.6452098  0.44752073 0.36964512 0.50885403]\n",
      " [0.30565882 0.48876452 0.5745127  0.4145186  0.01911187 0.0976249\n",
      "  0.9665408  0.18664265 0.58083165 0.01001382]\n",
      " [0.89012957 0.6119319  0.03569853 0.94198406 0.11366904 0.5723722\n",
      "  0.9026799  0.8301158  0.2645415  0.3270874 ]\n",
      " [0.565408   0.5952599  0.12264383 0.9726907  0.8764794  0.71316874\n",
      "  0.74378383 0.14391756 0.8747698  0.2922641 ]\n",
      " [0.65077376 0.18856907 0.09480166 0.81942403 0.9679929  0.9842247\n",
      "  0.33245432 0.8370342  0.22276771 0.5103425 ]\n",
      " [0.59702766 0.89356184 0.59567773 0.2899698  0.21416569 0.00437617\n",
      "  0.45279896 0.4990176  0.7934383  0.25824666]\n",
      " [0.84395397 0.47389913 0.71918917 0.5257484  0.24503064 0.54700327\n",
      "  0.07852888 0.22781909 0.10984564 0.47540128]\n",
      " [0.89817774 0.32888627 0.29212213 0.9321265  0.04670227 0.97514904\n",
      "  0.54848766 0.9021026  0.4505793  0.92919517]\n",
      " [0.63933897 0.16332722 0.72081435 0.9916884  0.74552035 0.6750895\n",
      "  0.3562808  0.59842956 0.72027445 0.8098887 ]], shape=(10, 10), dtype=float32)\n"
     ]
    }
   ],
   "source": [
    "print(next(iter(dataset1)))"
   ]
  },
  {
   "cell_type": "code",
   "execution_count": 11,
   "metadata": {
    "scrolled": true
   },
   "outputs": [
    {
     "data": {
      "text/plain": [
       "4"
      ]
     },
     "execution_count": 11,
     "metadata": {},
     "output_type": "execute_result"
    }
   ],
   "source": [
    "len(dataset1)"
   ]
  },
  {
   "cell_type": "code",
   "execution_count": 15,
   "metadata": {},
   "outputs": [],
   "source": [
    "dataset_xx = tf.data.Dataset.from_tensors([randmat, randmat])"
   ]
  },
  {
   "cell_type": "code",
   "execution_count": 17,
   "metadata": {},
   "outputs": [
    {
     "name": "stdout",
     "output_type": "stream",
     "text": [
      "1\n"
     ]
    },
    {
     "data": {
      "text/plain": [
       "TensorSpec(shape=(2, 4, 10, 10), dtype=tf.float32, name=None)"
      ]
     },
     "execution_count": 17,
     "metadata": {},
     "output_type": "execute_result"
    }
   ],
   "source": [
    "print(len(dataset_xx))\n",
    "dataset_xx.element_spec"
   ]
  },
  {
   "cell_type": "markdown",
   "metadata": {},
   "source": [
    "##### Datasets with multiple components\n",
    "\n",
    "We can create datasets in which each element has multiple components. Here, the first element is a scalar float, and the second element is a rank-1 tensor of 10 integers."
   ]
  },
  {
   "cell_type": "code",
   "execution_count": 19,
   "metadata": {},
   "outputs": [
    {
     "name": "stdout",
     "output_type": "stream",
     "text": [
      "(TensorSpec(shape=(), dtype=tf.float32, name=None), TensorSpec(shape=(10,), dtype=tf.int32, name=None))\n",
      "4\n",
      "0.36231768 [9 7 9 0 0 1 5 4 4 8]\n",
      "0.62052596 [6 7 3 9 6 7 6 4 0 7]\n",
      "0.017804384 [6 3 6 4 2 5 8 5 1 5]\n",
      "0.25211096 [8 0 9 9 8 6 6 6 6 6]\n"
     ]
    }
   ],
   "source": [
    "dataset = tf.data.Dataset.from_tensor_slices((\n",
    "    tf.random.uniform([4]),\n",
    "    tf.random.uniform([4, 10], maxval=10, dtype=tf.int32)\n",
    "))\n",
    "\n",
    "print(dataset.element_spec)\n",
    "print(len(dataset))\n",
    "\n",
    "for d in dataset:\n",
    "    print(d[0].numpy(), d[1].numpy())\n"
   ]
  },
  {
   "cell_type": "markdown",
   "metadata": {},
   "source": [
    "Alternatively, components can be specified with a name using a dictionary."
   ]
  },
  {
   "cell_type": "code",
   "execution_count": 22,
   "metadata": {
    "scrolled": true
   },
   "outputs": [
    {
     "name": "stdout",
     "output_type": "stream",
     "text": [
      "{'output': TensorSpec(shape=(), dtype=tf.float32, name=None), 'input': TensorSpec(shape=(10,), dtype=tf.int32, name=None)}\n",
      "4\n",
      "output: 0.21241677 input: [2 9 1 1 5 4 1 2 2 0]\n",
      "output: 0.22786355 input: [7 6 6 6 4 5 7 3 6 6]\n",
      "output: 0.6046711 input: [1 9 8 8 0 8 4 5 0 3]\n",
      "output: 0.060297847 input: [6 1 1 3 7 0 9 7 4 7]\n"
     ]
    }
   ],
   "source": [
    "dataset = tf.data.Dataset.from_tensor_slices(\n",
    "   {'output': tf.random.uniform([4]),\n",
    "    'input': tf.random.uniform([4, 10], maxval=10, dtype=tf.int32)})\n",
    "\n",
    "print(dataset.element_spec)\n",
    "print(len(dataset))\n",
    "for d in dataset:\n",
    "    print('output:', d['output'].numpy(), 'input:', d['input'].numpy())"
   ]
  },
  {
   "cell_type": "markdown",
   "metadata": {},
   "source": [
    "##### A more realistic example\n",
    "\n",
    "Let's use `keras.datasets` to retrieve MNIST and convert it to a `tf.data.Dataset`. Train and test are two tuples of (images, labels). So, they can be directly passed to `from_tensor_slices()`. As shown by `element_spec` images are 28x28, while labels are scalar."
   ]
  },
  {
   "cell_type": "code",
   "execution_count": 23,
   "metadata": {},
   "outputs": [],
   "source": [
    "train, test = keras.datasets.fashion_mnist.load_data()"
   ]
  },
  {
   "cell_type": "code",
   "execution_count": 26,
   "metadata": {},
   "outputs": [
    {
     "name": "stdout",
     "output_type": "stream",
     "text": [
      "2\n",
      "(60000, 28, 28)\n",
      "(60000,)\n"
     ]
    }
   ],
   "source": [
    "print(len(train))\n",
    "print(train[0].shape)\n",
    "print(train[1].shape)"
   ]
  },
  {
   "cell_type": "code",
   "execution_count": 27,
   "metadata": {},
   "outputs": [
    {
     "name": "stdout",
     "output_type": "stream",
     "text": [
      "60000\n",
      "10000\n",
      "(TensorSpec(shape=(28, 28), dtype=tf.uint8, name=None), TensorSpec(shape=(), dtype=tf.uint8, name=None))\n"
     ]
    }
   ],
   "source": [
    "train_ds = tf.data.Dataset.from_tensor_slices(train)\n",
    "test_ds = tf.data.Dataset.from_tensor_slices(test)\n",
    "\n",
    "print(len(train_ds))\n",
    "print(len(test_ds))\n",
    "print(train_ds.element_spec)"
   ]
  },
  {
   "cell_type": "markdown",
   "metadata": {},
   "source": [
    "### Create datasets from text files\n",
    "\n",
    "Let's see an example of one of the many alternative data sources that we can use to build datasets. The `keras.utils.get_file` is a convenient function to fetch files from URLs. Here, we'll use it to download three text files corresponding to three different translations of the Illiad. Files are downloaded under the usual hidden keras folder.\n",
    "\n"
   ]
  },
  {
   "cell_type": "code",
   "execution_count": 28,
   "metadata": {},
   "outputs": [
    {
     "name": "stdout",
     "output_type": "stream",
     "text": [
      "['/Users/jah/.keras/datasets/cowper.txt', '/Users/jah/.keras/datasets/derby.txt', '/Users/jah/.keras/datasets/butler.txt']\n"
     ]
    }
   ],
   "source": [
    "directory_url = 'https://storage.googleapis.com/download.tensorflow.org/data/illiad/'\n",
    "file_names = ['cowper.txt', 'derby.txt', 'butler.txt']\n",
    "\n",
    "file_paths = [\n",
    "    tf.keras.utils.get_file(file_name, directory_url + file_name)\n",
    "    for file_name in file_names\n",
    "]\n",
    "\n",
    "print(file_paths)"
   ]
  },
  {
   "cell_type": "markdown",
   "metadata": {},
   "source": [
    "The `TextLineDataset` class can digest turn multiple files into a dataset, in which each line is an element. \n",
    "\n",
    "The `take(<N>)` method fetches the first `<N>` elements from the dataset."
   ]
  },
  {
   "cell_type": "code",
   "execution_count": 29,
   "metadata": {},
   "outputs": [],
   "source": [
    "dataset = tf.data.TextLineDataset(file_paths)"
   ]
  },
  {
   "cell_type": "code",
   "execution_count": 31,
   "metadata": {
    "scrolled": false
   },
   "outputs": [
    {
     "name": "stdout",
     "output_type": "stream",
     "text": [
      "b\"\\xef\\xbb\\xbfAchilles sing, O Goddess! Peleus' son;\"\n",
      "b'His wrath pernicious, who ten thousand woes'\n",
      "b\"Caused to Achaia's host, sent many a soul\"\n",
      "b'Illustrious into Ades premature,'\n",
      "b'And Heroes gave (so stood the will of Jove)'\n"
     ]
    }
   ],
   "source": [
    "for line in dataset.take(5):\n",
    "    print(line.numpy())"
   ]
  },
  {
   "cell_type": "code",
   "execution_count": 35,
   "metadata": {},
   "outputs": [],
   "source": [
    "it = iter(dataset)"
   ]
  },
  {
   "cell_type": "code",
   "execution_count": 46,
   "metadata": {},
   "outputs": [
    {
     "name": "stdout",
     "output_type": "stream",
     "text": [
      "b\"Latona's son and Jove's. For he, incensed\"\n"
     ]
    }
   ],
   "source": [
    "print(next(it).numpy())"
   ]
  },
  {
   "cell_type": "markdown",
   "metadata": {},
   "source": [
    "### Create Datasets from CSV Files\n",
    "\n",
    "As a final example of source, let's digest a CSV file with the help of Pandas. For this, we'll use the [Titanic](https://www.tensorflow.org/datasets/catalog/titanic) dataset, which is used to predict the survival of Titanic passengers based on features such as age, sex, ticket class, etc.\n",
    "\n",
    "We start by reading the CSV in pandas."
   ]
  },
  {
   "cell_type": "code",
   "execution_count": 47,
   "metadata": {},
   "outputs": [
    {
     "data": {
      "text/html": [
       "<div>\n",
       "<style scoped>\n",
       "    .dataframe tbody tr th:only-of-type {\n",
       "        vertical-align: middle;\n",
       "    }\n",
       "\n",
       "    .dataframe tbody tr th {\n",
       "        vertical-align: top;\n",
       "    }\n",
       "\n",
       "    .dataframe thead th {\n",
       "        text-align: right;\n",
       "    }\n",
       "</style>\n",
       "<table border=\"1\" class=\"dataframe\">\n",
       "  <thead>\n",
       "    <tr style=\"text-align: right;\">\n",
       "      <th></th>\n",
       "      <th>survived</th>\n",
       "      <th>sex</th>\n",
       "      <th>age</th>\n",
       "      <th>n_siblings_spouses</th>\n",
       "      <th>parch</th>\n",
       "      <th>fare</th>\n",
       "      <th>class</th>\n",
       "      <th>deck</th>\n",
       "      <th>embark_town</th>\n",
       "      <th>alone</th>\n",
       "    </tr>\n",
       "  </thead>\n",
       "  <tbody>\n",
       "    <tr>\n",
       "      <th>0</th>\n",
       "      <td>0</td>\n",
       "      <td>male</td>\n",
       "      <td>22.0</td>\n",
       "      <td>1</td>\n",
       "      <td>0</td>\n",
       "      <td>7.2500</td>\n",
       "      <td>Third</td>\n",
       "      <td>unknown</td>\n",
       "      <td>Southampton</td>\n",
       "      <td>n</td>\n",
       "    </tr>\n",
       "    <tr>\n",
       "      <th>1</th>\n",
       "      <td>1</td>\n",
       "      <td>female</td>\n",
       "      <td>38.0</td>\n",
       "      <td>1</td>\n",
       "      <td>0</td>\n",
       "      <td>71.2833</td>\n",
       "      <td>First</td>\n",
       "      <td>C</td>\n",
       "      <td>Cherbourg</td>\n",
       "      <td>n</td>\n",
       "    </tr>\n",
       "    <tr>\n",
       "      <th>2</th>\n",
       "      <td>1</td>\n",
       "      <td>female</td>\n",
       "      <td>26.0</td>\n",
       "      <td>0</td>\n",
       "      <td>0</td>\n",
       "      <td>7.9250</td>\n",
       "      <td>Third</td>\n",
       "      <td>unknown</td>\n",
       "      <td>Southampton</td>\n",
       "      <td>y</td>\n",
       "    </tr>\n",
       "    <tr>\n",
       "      <th>3</th>\n",
       "      <td>1</td>\n",
       "      <td>female</td>\n",
       "      <td>35.0</td>\n",
       "      <td>1</td>\n",
       "      <td>0</td>\n",
       "      <td>53.1000</td>\n",
       "      <td>First</td>\n",
       "      <td>C</td>\n",
       "      <td>Southampton</td>\n",
       "      <td>n</td>\n",
       "    </tr>\n",
       "    <tr>\n",
       "      <th>4</th>\n",
       "      <td>0</td>\n",
       "      <td>male</td>\n",
       "      <td>28.0</td>\n",
       "      <td>0</td>\n",
       "      <td>0</td>\n",
       "      <td>8.4583</td>\n",
       "      <td>Third</td>\n",
       "      <td>unknown</td>\n",
       "      <td>Queenstown</td>\n",
       "      <td>y</td>\n",
       "    </tr>\n",
       "  </tbody>\n",
       "</table>\n",
       "</div>"
      ],
      "text/plain": [
       "   survived     sex   age  n_siblings_spouses  parch     fare  class     deck  \\\n",
       "0         0    male  22.0                   1      0   7.2500  Third  unknown   \n",
       "1         1  female  38.0                   1      0  71.2833  First        C   \n",
       "2         1  female  26.0                   0      0   7.9250  Third  unknown   \n",
       "3         1  female  35.0                   1      0  53.1000  First        C   \n",
       "4         0    male  28.0                   0      0   8.4583  Third  unknown   \n",
       "\n",
       "   embark_town alone  \n",
       "0  Southampton     n  \n",
       "1    Cherbourg     n  \n",
       "2  Southampton     y  \n",
       "3  Southampton     n  \n",
       "4   Queenstown     y  "
      ]
     },
     "execution_count": 47,
     "metadata": {},
     "output_type": "execute_result"
    }
   ],
   "source": [
    "titanic_file = tf.keras.utils.get_file(\"train.csv\", \"https://storage.googleapis.com/tf-datasets/titanic/train.csv\")\n",
    "df = pd.read_csv(titanic_file, index_col=None)\n",
    "df.head()\n"
   ]
  },
  {
   "cell_type": "markdown",
   "metadata": {},
   "source": [
    "We can then convert this to a TF Dataset by passing through an intermediate conversion to a Python dictionary, so to preserve column names"
   ]
  },
  {
   "cell_type": "code",
   "execution_count": 48,
   "metadata": {},
   "outputs": [
    {
     "name": "stdout",
     "output_type": "stream",
     "text": [
      "survived: 0, sex: b'male', age: 22.0, n_siblings_spouses: 1, parch: 0, fare: 7.25, class: b'Third', deck: b'unknown', embark_town: b'Southampton', alone: b'n', \n",
      "\n",
      "survived: 1, sex: b'female', age: 38.0, n_siblings_spouses: 1, parch: 0, fare: 71.2833, class: b'First', deck: b'C', embark_town: b'Cherbourg', alone: b'n', \n",
      "\n",
      "survived: 1, sex: b'female', age: 26.0, n_siblings_spouses: 0, parch: 0, fare: 7.925, class: b'Third', deck: b'unknown', embark_town: b'Southampton', alone: b'y', \n",
      "\n",
      "survived: 1, sex: b'female', age: 35.0, n_siblings_spouses: 1, parch: 0, fare: 53.1, class: b'First', deck: b'C', embark_town: b'Southampton', alone: b'n', \n",
      "\n"
     ]
    }
   ],
   "source": [
    "titanic_slices = tf.data.Dataset.from_tensor_slices(dict(df))\n",
    "\n",
    "for feature_batch in titanic_slices.take(4):\n",
    "    for key, value in feature_batch.items():\n",
    "        print(\"{}: {}, \".format(key, value), end='')\n",
    "    print(\"\\n\")"
   ]
  },
  {
   "cell_type": "markdown",
   "metadata": {},
   "source": [
    "### Transforming Datasets\n",
    "\n",
    "Let's see some dataset transformations. Let's use MNIST for this part."
   ]
  },
  {
   "cell_type": "code",
   "execution_count": 49,
   "metadata": {},
   "outputs": [],
   "source": [
    "train, test = keras.datasets.fashion_mnist.load_data()"
   ]
  },
  {
   "cell_type": "markdown",
   "metadata": {},
   "source": [
    "##### Zipping\n",
    "\n",
    "Let's assume that, for any reason, we didn't directly generate a dataset using the (images, labels) tuple, and instead we have separate datasets for inputs and outputs (ordered in the same way)."
   ]
  },
  {
   "cell_type": "code",
   "execution_count": 50,
   "metadata": {},
   "outputs": [
    {
     "name": "stdout",
     "output_type": "stream",
     "text": [
      "TensorSpec(shape=(28, 28), dtype=tf.uint8, name=None)\n",
      "TensorSpec(shape=(), dtype=tf.uint8, name=None)\n"
     ]
    }
   ],
   "source": [
    "train_x, train_y = train\n",
    "\n",
    "train_x = tf.data.Dataset.from_tensor_slices(train_x)\n",
    "train_y = tf.data.Dataset.from_tensor_slices(train_y)\n",
    "\n",
    "print(train_x.element_spec)\n",
    "print(train_y.element_spec)"
   ]
  },
  {
   "cell_type": "markdown",
   "metadata": {},
   "source": [
    "We can go back to the more convenient single Dataset using the `zip()` transformation."
   ]
  },
  {
   "cell_type": "code",
   "execution_count": 51,
   "metadata": {},
   "outputs": [
    {
     "name": "stdout",
     "output_type": "stream",
     "text": [
      "(TensorSpec(shape=(28, 28), dtype=tf.uint8, name=None), TensorSpec(shape=(), dtype=tf.uint8, name=None))\n"
     ]
    }
   ],
   "source": [
    "train = tf.data.Dataset.zip((train_x, train_y))\n",
    "print(train.element_spec)\n",
    "\n",
    "# let's save this version of the dataset for later\n",
    "train_orig = train"
   ]
  },
  {
   "cell_type": "markdown",
   "metadata": {},
   "source": [
    "##### Batching\n",
    "\n",
    "Right now, each element contains a single image and label:"
   ]
  },
  {
   "cell_type": "code",
   "execution_count": 52,
   "metadata": {},
   "outputs": [
    {
     "name": "stdout",
     "output_type": "stream",
     "text": [
      "(28, 28) 9\n",
      "(28, 28) 0\n",
      "(28, 28) 0\n",
      "(28, 28) 3\n"
     ]
    }
   ],
   "source": [
    "for elem in train.take(4):\n",
    "    print(elem[0].numpy().shape, elem[1].numpy())"
   ]
  },
  {
   "cell_type": "markdown",
   "metadata": {},
   "source": [
    "We can create batches of 32 images with:"
   ]
  },
  {
   "cell_type": "code",
   "execution_count": 53,
   "metadata": {},
   "outputs": [],
   "source": [
    "train = train.batch(32)"
   ]
  },
  {
   "cell_type": "code",
   "execution_count": 54,
   "metadata": {},
   "outputs": [
    {
     "name": "stdout",
     "output_type": "stream",
     "text": [
      "(32, 28, 28) (32,)\n",
      "(32, 28, 28) (32,)\n",
      "(32, 28, 28) (32,)\n",
      "(32, 28, 28) (32,)\n"
     ]
    }
   ],
   "source": [
    "for elem in train.take(4):\n",
    "    print(elem[0].numpy().shape, elem[1].numpy().shape)"
   ]
  },
  {
   "cell_type": "markdown",
   "metadata": {},
   "source": [
    "##### Shuffling\n",
    "\n",
    "We can also shuffle the dataset. Shuffling takes a buffer size."
   ]
  },
  {
   "cell_type": "code",
   "execution_count": 55,
   "metadata": {},
   "outputs": [],
   "source": [
    "train = train_orig.shuffle(100).batch(32)"
   ]
  },
  {
   "cell_type": "markdown",
   "metadata": {},
   "source": [
    "The order of batching and shuffling matters. To see this, we can add an index to each element:"
   ]
  },
  {
   "cell_type": "code",
   "execution_count": 56,
   "metadata": {},
   "outputs": [
    {
     "name": "stdout",
     "output_type": "stream",
     "text": [
      "(TensorSpec(shape=(), dtype=tf.int64, name=None), TensorSpec(shape=(28, 28), dtype=tf.uint8, name=None), TensorSpec(shape=(), dtype=tf.uint8, name=None))\n"
     ]
    }
   ],
   "source": [
    "counter = tf.data.experimental.Counter()\n",
    "train_idx = tf.data.Dataset.zip((counter, train_x, train_y))\n",
    "print(train_idx.element_spec)"
   ]
  },
  {
   "cell_type": "markdown",
   "metadata": {},
   "source": [
    "Shuffle before batching. Elements in the first batch cannot have indexes larger than 131:"
   ]
  },
  {
   "cell_type": "code",
   "execution_count": 57,
   "metadata": {
    "scrolled": true
   },
   "outputs": [
    {
     "name": "stdout",
     "output_type": "stream",
     "text": [
      "tf.Tensor(\n",
      "[ 68  38  23  67  78  99   3   9  80  86 106  40  13  94  18  97 105 102\n",
      "  81 112  83  39  70  34  17  45 120  31 115 123   4  85], shape=(32,), dtype=int64)\n",
      "tf.Tensor(\n",
      "[117  41 122 128  57  48   8  77  64 138  74  71 142 132 116 121 114  61\n",
      "  22  53  36  98 100 154  62  91  42  92  33  46  76 153], shape=(32,), dtype=int64)\n",
      "tf.Tensor(\n",
      "[ 10 141 111 124   5  14 148 140 144  37  19 107 171 101 104  21 149 129\n",
      "   7 172  73 113 163 160 134  26 146  51  32 152 170 166], shape=(32,), dtype=int64)\n",
      "tf.Tensor(\n",
      "[159 164  69 110 191 199 167 179  50 108 133  72  29  84  95 145   2 207\n",
      "  20 210   0  15   1  96  66 139  11 218 109  35 205 193], shape=(32,), dtype=int64)\n"
     ]
    }
   ],
   "source": [
    "train_sb = train_idx.shuffle(100).batch(32)\n",
    "\n",
    "for elem in train_sb.take(4):\n",
    "    print(elem[0])"
   ]
  },
  {
   "cell_type": "markdown",
   "metadata": {},
   "source": [
    "Batch before shuffling:"
   ]
  },
  {
   "cell_type": "code",
   "execution_count": 58,
   "metadata": {},
   "outputs": [
    {
     "name": "stdout",
     "output_type": "stream",
     "text": [
      "tf.Tensor(\n",
      "[2240 2241 2242 2243 2244 2245 2246 2247 2248 2249 2250 2251 2252 2253\n",
      " 2254 2255 2256 2257 2258 2259 2260 2261 2262 2263 2264 2265 2266 2267\n",
      " 2268 2269 2270 2271], shape=(32,), dtype=int64)\n",
      "tf.Tensor(\n",
      "[2400 2401 2402 2403 2404 2405 2406 2407 2408 2409 2410 2411 2412 2413\n",
      " 2414 2415 2416 2417 2418 2419 2420 2421 2422 2423 2424 2425 2426 2427\n",
      " 2428 2429 2430 2431], shape=(32,), dtype=int64)\n",
      "tf.Tensor(\n",
      "[512 513 514 515 516 517 518 519 520 521 522 523 524 525 526 527 528 529\n",
      " 530 531 532 533 534 535 536 537 538 539 540 541 542 543], shape=(32,), dtype=int64)\n",
      "tf.Tensor(\n",
      "[448 449 450 451 452 453 454 455 456 457 458 459 460 461 462 463 464 465\n",
      " 466 467 468 469 470 471 472 473 474 475 476 477 478 479], shape=(32,), dtype=int64)\n"
     ]
    }
   ],
   "source": [
    "train_sb = train_idx.batch(32).shuffle(100)\n",
    "\n",
    "for elem in train_sb.take(4):\n",
    "    print(elem[0])"
   ]
  },
  {
   "cell_type": "markdown",
   "metadata": {},
   "source": [
    "### More advanced preprocessing\n",
    "\n",
    "Let's see one example of more advanced preprocessing using the map function. Let's normalize the MNIST dataset to 0:1."
   ]
  },
  {
   "cell_type": "code",
   "execution_count": 59,
   "metadata": {},
   "outputs": [],
   "source": [
    "def normalize(X, y):\n",
    "    X_norm = tf.cast(X, tf.float32) / 255.0\n",
    "    return X_norm, y\n",
    "\n",
    "train = train_orig.map(normalize).shuffle(100).batch(4)"
   ]
  },
  {
   "cell_type": "code",
   "execution_count": 60,
   "metadata": {},
   "outputs": [
    {
     "name": "stdout",
     "output_type": "stream",
     "text": [
      "tf.Tensor(\n",
      "[[0.0627451  0.8352941  0.95686275 1.         0.85490197 0.8\n",
      "  0.85490197 0.56078434 0.         0.00392157]\n",
      " [0.29803923 0.9098039  0.92156863 0.91764706 0.85490197 0.827451\n",
      "  0.8627451  0.8745098  0.         0.        ]\n",
      " [0.6313726  0.88235295 0.85490197 0.85490197 0.8627451  0.80784315\n",
      "  0.81960785 0.8352941  0.1254902  0.        ]\n",
      " [0.8392157  0.85490197 0.87058824 0.8666667  0.85490197 0.8235294\n",
      "  0.8117647  0.8509804  0.34901962 0.        ]\n",
      " [0.8117647  0.827451   0.88235295 0.85490197 0.85490197 0.81960785\n",
      "  0.8156863  0.8509804  0.64705884 0.        ]\n",
      " [0.8666667  0.80784315 0.88235295 0.85490197 0.85490197 0.8235294\n",
      "  0.8117647  0.84313726 0.79607844 0.        ]\n",
      " [0.8901961  0.8        0.8784314  0.87058824 0.84705883 0.827451\n",
      "  0.8235294  0.8235294  0.76862746 0.        ]\n",
      " [0.9098039  0.79607844 0.88235295 0.87058824 0.84705883 0.827451\n",
      "  0.8392157  0.8156863  0.8        0.        ]\n",
      " [0.92156863 0.79607844 0.88235295 0.87058824 0.8509804  0.8235294\n",
      "  0.8392157  0.81960785 0.827451   0.05882353]\n",
      " [0.91764706 0.7921569  0.8745098  0.8745098  0.8627451  0.8235294\n",
      "  0.8392157  0.81960785 0.84313726 0.17254902]], shape=(10, 10), dtype=float32)\n",
      "tf.Tensor(\n",
      "[[  0   0   0 193 228 218 213 198 180 212]\n",
      " [  3   0  12 219 220 212 218 192 169 227]\n",
      " [  6   0  99 244 222 220 218 203 198 221]\n",
      " [  0   0  55 236 228 230 228 240 232 213]\n",
      " [  0   0 237 226 217 223 222 219 222 221]\n",
      " [145 204 228 207 213 221 218 208 211 218]\n",
      " [220 222 217 226 200 205 211 230 224 234]\n",
      " [208 209 200 159 245 193 206 223 255 255]\n",
      " [205 220 240  80 150 255 229 221 188 154]\n",
      " [194 215 217 241  65  73 106 117 168 219]], shape=(10, 10), dtype=uint8)\n"
     ]
    }
   ],
   "source": [
    "print(next(iter(train))[0][0,10:20,10:20])\n",
    "print(next(iter(train_orig))[0][10:20,10:20])"
   ]
  },
  {
   "cell_type": "markdown",
   "metadata": {},
   "source": [
    "##### Reading images with map()\n",
    "\n",
    "We can also use the map function to convert a dataset that contains filenames to one that contains images."
   ]
  },
  {
   "cell_type": "code",
   "execution_count": 61,
   "metadata": {},
   "outputs": [
    {
     "name": "stdout",
     "output_type": "stream",
     "text": [
      "/Users/jah/.keras/datasets/flower_photos/*/*\n",
      "b'/Users/jah/.keras/datasets/flower_photos/sunflowers/20148493928_9f75a99783.jpg'\n",
      "b'/Users/jah/.keras/datasets/flower_photos/dandelion/14058811536_f29cd7bd58_n.jpg'\n",
      "b'/Users/jah/.keras/datasets/flower_photos/roses/2225411981_6638c3e988.jpg'\n",
      "b'/Users/jah/.keras/datasets/flower_photos/roses/16552686350_db8db55cd2.jpg'\n",
      "b'/Users/jah/.keras/datasets/flower_photos/roses/16691277899_9433f39155_n.jpg'\n"
     ]
    }
   ],
   "source": [
    "flowers_root = tf.keras.utils.get_file(\n",
    "    'flower_photos',\n",
    "    'https://storage.googleapis.com/download.tensorflow.org/example_images/flower_photos.tgz',\n",
    "    untar=True)\n",
    "print(flowers_root + '/*/*')\n",
    "\n",
    "list_ds = tf.data.Dataset.list_files(str(flowers_root + '/*/*'))\n",
    "\n",
    "for elem in list_ds.take(5):\n",
    "     print(elem.numpy())"
   ]
  },
  {
   "cell_type": "markdown",
   "metadata": {},
   "source": [
    "Let's write a function to read one image from the filename, and also determine the label based on the path:"
   ]
  },
  {
   "cell_type": "code",
   "execution_count": 62,
   "metadata": {},
   "outputs": [],
   "source": [
    "def parse_image(filename):\n",
    "    parts = tf.strings.split(filename, os.sep)\n",
    "\n",
    "    # the folder name is the label\n",
    "    label = parts[-2]\n",
    "\n",
    "    # read and resize the image\n",
    "    image = tf.io.read_file(filename)\n",
    "    image = tf.image.decode_jpeg(image)\n",
    "    image = tf.image.convert_image_dtype(image, tf.float32)\n",
    "    image = tf.image.resize(image, [128, 128])\n",
    "    return image, label"
   ]
  },
  {
   "cell_type": "markdown",
   "metadata": {},
   "source": [
    "We can test this function on a single image first:"
   ]
  },
  {
   "cell_type": "code",
   "execution_count": 64,
   "metadata": {},
   "outputs": [
    {
     "name": "stdout",
     "output_type": "stream",
     "text": [
      "b'roses'\n"
     ]
    },
    {
     "data": {
      "image/png": "[encoded data removed]",
      "text/plain": [
       "<Figure size 432x288 with 1 Axes>"
      ]
     },
     "metadata": {
      "needs_background": "light"
     },
     "output_type": "display_data"
    }
   ],
   "source": [
    "image, label = parse_image(next(iter(list_ds)))\n",
    "plt.imshow(image)\n",
    "print(label.numpy())"
   ]
  },
  {
   "cell_type": "markdown",
   "metadata": {},
   "source": [
    "Then, we can use map to apply it to the entire dataset:"
   ]
  },
  {
   "cell_type": "code",
   "execution_count": 65,
   "metadata": {},
   "outputs": [],
   "source": [
    "image_ds = list_ds.map(parse_image)"
   ]
  },
  {
   "cell_type": "code",
   "execution_count": 66,
   "metadata": {},
   "outputs": [
    {
     "data": {
      "image/png": "[encoded data removed]",
      "text/plain": [
       "<Figure size 432x288 with 5 Axes>"
      ]
     },
     "metadata": {
      "needs_background": "light"
     },
     "output_type": "display_data"
    }
   ],
   "source": [
    "fig = plt.figure()\n",
    "\n",
    "for i, elem in enumerate(image_ds.take(5)):\n",
    "    ax = fig.add_subplot(2,3,i+1)\n",
    "    ax.imshow(elem[0])\n",
    "    ax.set_xlabel(elem[1].numpy())\n",
    "    ax.grid(False)"
   ]
  },
  {
   "cell_type": "markdown",
   "metadata": {},
   "source": [
    "### Optimizing performance\n",
    "\n",
    "We can improve the performance of input pipelines by:\n",
    "- Prefetching\n",
    "- Caching\n",
    "- Applying map in parallel\n",
    "- Etc.\n",
    "\n",
    "This is particularly useful for datasets that process files stored on disk (not in-memory data)."
   ]
  }
 ],
 "metadata": {
  "kernelspec": {
   "display_name": "Python 3 (ipykernel)",
   "language": "python",
   "name": "python3"
  },
  "language_info": {
   "codemirror_mode": {
    "name": "ipython",
    "version": 3
   },
   "file_extension": ".py",
   "mimetype": "text/x-python",
   "name": "python",
   "nbconvert_exporter": "python",
   "pygments_lexer": "ipython3",
   "version": "3.8.10"
  }
 },
 "nbformat": 4,
 "nbformat_minor": 4
}
