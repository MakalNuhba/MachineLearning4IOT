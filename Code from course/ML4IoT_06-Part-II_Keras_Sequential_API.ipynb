{
 "cells": [
  {
   "cell_type": "markdown",
   "metadata": {},
   "source": [
    "# Keras Sequential API\n",
    "\n",
    "## Classify images of clothing\n",
    "\n",
    "In this notebook, we will train a neural network to classify images of clothing from the Fashion MNIST dataset. The notebook is based on the public tutorial found here: https://www.tensorflow.org/tutorials/keras/classification"
   ]
  },
  {
   "cell_type": "markdown",
   "metadata": {},
   "source": [
    "##### Import the required modules"
   ]
  },
  {
   "cell_type": "code",
   "execution_count": 1,
   "metadata": {},
   "outputs": [
    {
     "name": "stderr",
     "output_type": "stream",
     "text": [
      "2021-12-22 12:06:20.216423: W tensorflow/stream_executor/platform/default/dso_loader.cc:64] Could not load dynamic library 'libcudart.so.11.0'; dlerror: libcudart.so.11.0: cannot open shared object file: No such file or directory\n",
      "2021-12-22 12:06:20.216446: I tensorflow/stream_executor/cuda/cudart_stub.cc:29] Ignore above cudart dlerror if you do not have a GPU set up on your machine.\n"
     ]
    }
   ],
   "source": [
    "import tensorflow as tf\n",
    "from tensorflow import keras\n",
    "import matplotlib.pyplot as plt"
   ]
  },
  {
   "cell_type": "markdown",
   "metadata": {},
   "source": [
    "##### Download the Fashion MNIST Dataset\n",
    "We will use the `keras.datasets` package, which contains utility functions to download popular datasets with a few lines of code, without worrying about whether you are downloading from the correct source, or the correct version, etc."
   ]
  },
  {
   "cell_type": "code",
   "execution_count": 2,
   "metadata": {},
   "outputs": [],
   "source": [
    "(train_images, train_labels), (test_images, test_labels) = keras.datasets.fashion_mnist.load_data()"
   ]
  },
  {
   "cell_type": "markdown",
   "metadata": {},
   "source": [
    "The downloaded data will be stored on your disk in a hidden folder (e.g. `/Users/<username>/.keras/datasets/fashion-mnist` on MacOs. \n",
    "\n",
    "The variables `train_images` and `test_images` are numpy arrays of shape $(n_{images}, 28, 28)$, whereas `train_labels`, and `test_labels` are numpy arrays of size $(n_{images}, )$"
   ]
  },
  {
   "cell_type": "code",
   "execution_count": 3,
   "metadata": {},
   "outputs": [
    {
     "name": "stdout",
     "output_type": "stream",
     "text": [
      "(60000, 28, 28)\n",
      "(60000,)\n",
      "[9 0 0 3 0 2 7 2 5 5]\n"
     ]
    }
   ],
   "source": [
    "print(train_images.shape)\n",
    "print(train_labels.shape)\n",
    "print(train_labels[:10])"
   ]
  },
  {
   "cell_type": "markdown",
   "metadata": {},
   "source": [
    "Each label is an integer in 0..9. Let us define the corresponding class names (they are not defined in the dataset)"
   ]
  },
  {
   "cell_type": "code",
   "execution_count": 4,
   "metadata": {},
   "outputs": [],
   "source": [
    "class_names = ['T-shirt/top', 'Trouser', 'Pullover', 'Dress', 'Coat',\n",
    "               'Sandal', 'Shirt', 'Sneaker', 'Bag', 'Ankle boot']"
   ]
  },
  {
   "cell_type": "markdown",
   "metadata": {},
   "source": [
    "Finally, let us plot the first training image as an example."
   ]
  },
  {
   "cell_type": "code",
   "execution_count": 5,
   "metadata": {},
   "outputs": [
    {
     "data": {
      "image/png": "[encoded data removed]",
      "text/plain": [
       "<Figure size 432x288 with 1 Axes>"
      ]
     },
     "metadata": {
      "needs_background": "light"
     },
     "output_type": "display_data"
    }
   ],
   "source": [
    "plt.figure()\n",
    "plt.imshow(train_images[1], cmap=plt.cm.binary)\n",
    "plt.xlabel(class_names[train_labels[1]])\n",
    "plt.grid(False)\n",
    "plt.show()"
   ]
  },
  {
   "cell_type": "markdown",
   "metadata": {},
   "source": [
    "##### Let us build our first Keras model, with the Sequential API\n",
    "\n",
    "For this example, we will use a simple two-layer, fully-connected neural network. \n",
    "\n",
    "The network includes two types layer (sublcasses of `keras.layers.Layer`):\n",
    "\n",
    "- `Dense` layers (i.e. fully connected ones) take as mandatory parameters the number of output units. Optional parameters include the activation function, the presence of bias, etc.\n",
    "- `Flatten` layers are used to flatten a rank-N tensor (2 in this case) to a 1D array. Their input parameter is the shape of the input tensor.\n",
    "\n",
    "The `Flatten` layer is needed to feed the following `Dense` layers, which only accept (batches of) rank-1 tensors."
   ]
  },
  {
   "cell_type": "code",
   "execution_count": 6,
   "metadata": {},
   "outputs": [
    {
     "name": "stderr",
     "output_type": "stream",
     "text": [
      "2021-12-22 12:06:22.600624: W tensorflow/stream_executor/platform/default/dso_loader.cc:64] Could not load dynamic library 'libcuda.so.1'; dlerror: libcuda.so.1: cannot open shared object file: No such file or directory\n",
      "2021-12-22 12:06:22.600650: W tensorflow/stream_executor/cuda/cuda_driver.cc:269] failed call to cuInit: UNKNOWN ERROR (303)\n",
      "2021-12-22 12:06:22.600667: I tensorflow/stream_executor/cuda/cuda_diagnostics.cc:156] kernel driver does not appear to be running on this host (matteo-Inspiron-7591-2n1): /proc/driver/nvidia/version does not exist\n",
      "2021-12-22 12:06:22.600817: I tensorflow/core/platform/cpu_feature_guard.cc:151] This TensorFlow binary is optimized with oneAPI Deep Neural Network Library (oneDNN) to use the following CPU instructions in performance-critical operations:  AVX2 FMA\n",
      "To enable them in other operations, rebuild TensorFlow with the appropriate compiler flags.\n"
     ]
    }
   ],
   "source": [
    "model = keras.Sequential([\n",
    "    keras.layers.Flatten(input_shape=(28, 28)),\n",
    "    keras.layers.Dense(128, activation='relu', name='first_dense'),\n",
    "    keras.layers.Dense(10, activation='softmax', name='second_dense')\n",
    "])"
   ]
  },
  {
   "cell_type": "markdown",
   "metadata": {},
   "source": [
    "Let us show a summary of the model and plot it. Notice that the `Flatten` layer does not have trainable parameters. Also notice the `?`/`None` dimensions in the various layers. These mean that the layer can accept any value for that dimension (the batch size in this case)."
   ]
  },
  {
   "cell_type": "code",
   "execution_count": 7,
   "metadata": {},
   "outputs": [
    {
     "name": "stdout",
     "output_type": "stream",
     "text": [
      "Model: \"sequential\"\n",
      "_________________________________________________________________\n",
      " Layer (type)                Output Shape              Param #   \n",
      "=================================================================\n",
      " flatten (Flatten)           (None, 784)               0         \n",
      "                                                                 \n",
      " first_dense (Dense)         (None, 128)               100480    \n",
      "                                                                 \n",
      " second_dense (Dense)        (None, 10)                1290      \n",
      "                                                                 \n",
      "=================================================================\n",
      "Total params: 101,770\n",
      "Trainable params: 101,770\n",
      "Non-trainable params: 0\n",
      "_________________________________________________________________\n"
     ]
    }
   ],
   "source": [
    "model.summary()"
   ]
  },
  {
   "cell_type": "code",
   "execution_count": 8,
   "metadata": {},
   "outputs": [
    {
     "name": "stdout",
     "output_type": "stream",
     "text": [
      "('You must install pydot (`pip install pydot`) and install graphviz (see instructions at https://graphviz.gitlab.io/download/) ', 'for plot_model/model_to_dot to work.')\n"
     ]
    }
   ],
   "source": [
    "keras.utils.plot_model(model, 'tmp_new.png', show_shapes=True)"
   ]
  },
  {
   "cell_type": "markdown",
   "metadata": {},
   "source": [
    "##### Compile the model\n",
    "\n",
    "Let us now compile the model, specifying optimizer, loss function and metrics."
   ]
  },
  {
   "cell_type": "code",
   "execution_count": 9,
   "metadata": {},
   "outputs": [],
   "source": [
    "model.compile(optimizer='adam',\n",
    "              loss=tf.keras.losses.SparseCategoricalCrossentropy(from_logits=False),\n",
    "              metrics=['accuracy'])"
   ]
  },
  {
   "cell_type": "markdown",
   "metadata": {},
   "source": [
    "##### Train the model\n",
    "\n",
    "Let us now train the model. Remember that `np.ndarray` are automatically converted to TF tensors, so we don't need to do that explicitly when passing data to `fit()`"
   ]
  },
  {
   "cell_type": "code",
   "execution_count": 10,
   "metadata": {},
   "outputs": [
    {
     "name": "stdout",
     "output_type": "stream",
     "text": [
      "Epoch 1/100\n",
      "1875/1875 [==============================] - 2s 998us/step - loss: 2.9164 - accuracy: 0.6815\n",
      "Epoch 2/100\n",
      "1875/1875 [==============================] - 2s 940us/step - loss: 0.7124 - accuracy: 0.7305\n",
      "Epoch 3/100\n",
      "1875/1875 [==============================] - 2s 875us/step - loss: 0.6297 - accuracy: 0.7726\n",
      "Epoch 4/100\n",
      "1875/1875 [==============================] - 2s 872us/step - loss: 0.5878 - accuracy: 0.7924\n",
      "Epoch 5/100\n",
      "1875/1875 [==============================] - 2s 885us/step - loss: 0.5670 - accuracy: 0.8042\n",
      "Epoch 6/100\n",
      "1875/1875 [==============================] - 2s 882us/step - loss: 0.5316 - accuracy: 0.8163\n",
      "Epoch 7/100\n",
      "1875/1875 [==============================] - 2s 874us/step - loss: 0.5291 - accuracy: 0.8180\n",
      "Epoch 8/100\n",
      "1875/1875 [==============================] - 2s 936us/step - loss: 0.5202 - accuracy: 0.8223\n",
      "Epoch 9/100\n",
      "1875/1875 [==============================] - 2s 951us/step - loss: 0.5090 - accuracy: 0.8253\n",
      "Epoch 10/100\n",
      "1875/1875 [==============================] - 2s 939us/step - loss: 0.4969 - accuracy: 0.8293\n",
      "Epoch 11/100\n",
      "1875/1875 [==============================] - 2s 873us/step - loss: 0.4951 - accuracy: 0.8298\n",
      "Epoch 12/100\n",
      "1875/1875 [==============================] - 2s 889us/step - loss: 0.4940 - accuracy: 0.8305\n",
      "Epoch 13/100\n",
      "1875/1875 [==============================] - 2s 911us/step - loss: 0.5006 - accuracy: 0.8319\n",
      "Epoch 14/100\n",
      "1875/1875 [==============================] - 2s 870us/step - loss: 0.4985 - accuracy: 0.8318\n",
      "Epoch 15/100\n",
      "1875/1875 [==============================] - 2s 888us/step - loss: 0.4806 - accuracy: 0.8356\n",
      "Epoch 16/100\n",
      "1875/1875 [==============================] - 2s 880us/step - loss: 0.4789 - accuracy: 0.8353\n",
      "Epoch 17/100\n",
      "1875/1875 [==============================] - 2s 923us/step - loss: 0.4768 - accuracy: 0.8379\n",
      "Epoch 18/100\n",
      "1875/1875 [==============================] - 2s 882us/step - loss: 0.4769 - accuracy: 0.8377\n",
      "Epoch 19/100\n",
      "1875/1875 [==============================] - 2s 888us/step - loss: 0.4765 - accuracy: 0.8362\n",
      "Epoch 20/100\n",
      "1875/1875 [==============================] - 2s 879us/step - loss: 0.4695 - accuracy: 0.8392\n",
      "Epoch 21/100\n",
      "1875/1875 [==============================] - 2s 889us/step - loss: 0.4788 - accuracy: 0.8394\n",
      "Epoch 22/100\n",
      "1875/1875 [==============================] - 2s 901us/step - loss: 0.4751 - accuracy: 0.8376\n",
      "Epoch 23/100\n",
      "1875/1875 [==============================] - 2s 886us/step - loss: 0.4754 - accuracy: 0.8376\n",
      "Epoch 24/100\n",
      "1875/1875 [==============================] - 2s 892us/step - loss: 0.4686 - accuracy: 0.8416\n",
      "Epoch 25/100\n",
      "1875/1875 [==============================] - 2s 892us/step - loss: 0.4741 - accuracy: 0.8378\n",
      "Epoch 26/100\n",
      "1875/1875 [==============================] - 2s 879us/step - loss: 0.4709 - accuracy: 0.8396\n",
      "Epoch 27/100\n",
      "1875/1875 [==============================] - 2s 893us/step - loss: 0.4578 - accuracy: 0.8435\n",
      "Epoch 28/100\n",
      "1875/1875 [==============================] - 2s 885us/step - loss: 0.4560 - accuracy: 0.8436\n",
      "Epoch 29/100\n",
      "1875/1875 [==============================] - 2s 895us/step - loss: 0.4780 - accuracy: 0.8411\n",
      "Epoch 30/100\n",
      "1875/1875 [==============================] - 2s 900us/step - loss: 0.4579 - accuracy: 0.8436\n",
      "Epoch 31/100\n",
      "1875/1875 [==============================] - 2s 901us/step - loss: 0.4575 - accuracy: 0.8429\n",
      "Epoch 32/100\n",
      "1875/1875 [==============================] - 2s 900us/step - loss: 0.4750 - accuracy: 0.8425\n",
      "Epoch 33/100\n",
      "1875/1875 [==============================] - 2s 891us/step - loss: 0.4583 - accuracy: 0.8431\n",
      "Epoch 34/100\n",
      "1875/1875 [==============================] - 2s 897us/step - loss: 0.4640 - accuracy: 0.8438\n",
      "Epoch 35/100\n",
      "1875/1875 [==============================] - 2s 887us/step - loss: 0.4538 - accuracy: 0.8450\n",
      "Epoch 36/100\n",
      "1875/1875 [==============================] - 2s 888us/step - loss: 0.4559 - accuracy: 0.8451\n",
      "Epoch 37/100\n",
      "1875/1875 [==============================] - 2s 920us/step - loss: 0.4538 - accuracy: 0.8448\n",
      "Epoch 38/100\n",
      "1875/1875 [==============================] - 2s 881us/step - loss: 0.4683 - accuracy: 0.8412\n",
      "Epoch 39/100\n",
      "1875/1875 [==============================] - 2s 886us/step - loss: 0.4535 - accuracy: 0.8451\n",
      "Epoch 40/100\n",
      "1875/1875 [==============================] - 2s 884us/step - loss: 0.4497 - accuracy: 0.8458\n",
      "Epoch 41/100\n",
      "1875/1875 [==============================] - 2s 919us/step - loss: 0.4496 - accuracy: 0.8454\n",
      "Epoch 42/100\n",
      "1875/1875 [==============================] - 2s 891us/step - loss: 0.4588 - accuracy: 0.8459\n",
      "Epoch 43/100\n",
      "1875/1875 [==============================] - 2s 878us/step - loss: 0.4647 - accuracy: 0.8429\n",
      "Epoch 44/100\n",
      "1875/1875 [==============================] - 2s 984us/step - loss: 0.4504 - accuracy: 0.8468\n",
      "Epoch 45/100\n",
      "1875/1875 [==============================] - 2s 961us/step - loss: 0.4476 - accuracy: 0.8474\n",
      "Epoch 46/100\n",
      "1875/1875 [==============================] - 2s 1ms/step - loss: 0.4533 - accuracy: 0.8466\n",
      "Epoch 47/100\n",
      "1875/1875 [==============================] - 3s 2ms/step - loss: 0.4557 - accuracy: 0.8473\n",
      "Epoch 48/100\n",
      "1875/1875 [==============================] - 2s 1ms/step - loss: 0.4437 - accuracy: 0.8488\n",
      "Epoch 49/100\n",
      "1875/1875 [==============================] - 3s 2ms/step - loss: 0.4634 - accuracy: 0.8444\n",
      "Epoch 50/100\n",
      "1875/1875 [==============================] - 2s 1ms/step - loss: 0.4453 - accuracy: 0.8471\n",
      "Epoch 51/100\n",
      "1875/1875 [==============================] - 2s 1ms/step - loss: 0.4541 - accuracy: 0.8446\n",
      "Epoch 52/100\n",
      "1875/1875 [==============================] - 2s 1ms/step - loss: 0.4524 - accuracy: 0.8475\n",
      "Epoch 53/100\n",
      "1875/1875 [==============================] - 2s 1ms/step - loss: 0.4422 - accuracy: 0.8477\n",
      "Epoch 54/100\n",
      "1875/1875 [==============================] - 2s 1ms/step - loss: 0.4707 - accuracy: 0.8417\n",
      "Epoch 55/100\n",
      "1875/1875 [==============================] - 2s 1ms/step - loss: 0.4573 - accuracy: 0.8445\n",
      "Epoch 56/100\n",
      "1875/1875 [==============================] - 2s 1ms/step - loss: 0.4658 - accuracy: 0.8478\n",
      "Epoch 57/100\n",
      "1875/1875 [==============================] - 2s 1ms/step - loss: 0.4510 - accuracy: 0.8475\n",
      "Epoch 58/100\n",
      "1875/1875 [==============================] - 2s 1ms/step - loss: 0.4523 - accuracy: 0.8466\n",
      "Epoch 59/100\n",
      "1875/1875 [==============================] - 2s 903us/step - loss: 0.4467 - accuracy: 0.8465\n",
      "Epoch 60/100\n",
      "1875/1875 [==============================] - 2s 1ms/step - loss: 0.4496 - accuracy: 0.8463\n",
      "Epoch 61/100\n",
      "1875/1875 [==============================] - 2s 1ms/step - loss: 0.4614 - accuracy: 0.8450\n",
      "Epoch 62/100\n",
      "1875/1875 [==============================] - 2s 1ms/step - loss: 0.4469 - accuracy: 0.8479\n",
      "Epoch 63/100\n",
      "1875/1875 [==============================] - 2s 1ms/step - loss: 0.4524 - accuracy: 0.8453\n",
      "Epoch 64/100\n",
      "1875/1875 [==============================] - 2s 959us/step - loss: 0.4460 - accuracy: 0.8476\n",
      "Epoch 65/100\n",
      "1875/1875 [==============================] - 2s 1ms/step - loss: 0.4375 - accuracy: 0.8490\n",
      "Epoch 66/100\n",
      "1875/1875 [==============================] - 2s 961us/step - loss: 0.4523 - accuracy: 0.8447\n",
      "Epoch 67/100\n",
      "1875/1875 [==============================] - 2s 822us/step - loss: 0.4433 - accuracy: 0.8482\n",
      "Epoch 68/100\n",
      "1875/1875 [==============================] - 2s 892us/step - loss: 0.4421 - accuracy: 0.8487\n",
      "Epoch 69/100\n",
      "1875/1875 [==============================] - 2s 844us/step - loss: 0.4443 - accuracy: 0.8493\n",
      "Epoch 70/100\n",
      "1875/1875 [==============================] - 1s 778us/step - loss: 0.4479 - accuracy: 0.8469\n",
      "Epoch 71/100\n",
      "1875/1875 [==============================] - 2s 875us/step - loss: 0.4471 - accuracy: 0.8504\n",
      "Epoch 72/100\n",
      "1875/1875 [==============================] - 2s 909us/step - loss: 0.4489 - accuracy: 0.8461\n",
      "Epoch 73/100\n",
      "1875/1875 [==============================] - 2s 910us/step - loss: 0.4455 - accuracy: 0.8482\n",
      "Epoch 74/100\n",
      "1875/1875 [==============================] - 2s 869us/step - loss: 0.4566 - accuracy: 0.8485\n",
      "Epoch 75/100\n",
      "1875/1875 [==============================] - 2s 1ms/step - loss: 0.4458 - accuracy: 0.8477\n",
      "Epoch 76/100\n",
      "1875/1875 [==============================] - 2s 962us/step - loss: 0.4489 - accuracy: 0.8474\n",
      "Epoch 77/100\n",
      "1875/1875 [==============================] - 2s 920us/step - loss: 0.4407 - accuracy: 0.8495\n",
      "Epoch 78/100\n"
     ]
    },
    {
     "name": "stdout",
     "output_type": "stream",
     "text": [
      "1875/1875 [==============================] - 2s 919us/step - loss: 0.4425 - accuracy: 0.8488\n",
      "Epoch 79/100\n",
      "1875/1875 [==============================] - 2s 921us/step - loss: 0.4395 - accuracy: 0.8463\n",
      "Epoch 80/100\n",
      "1875/1875 [==============================] - 2s 1ms/step - loss: 0.4524 - accuracy: 0.8496\n",
      "Epoch 81/100\n",
      "1875/1875 [==============================] - 2s 902us/step - loss: 0.4470 - accuracy: 0.8497\n",
      "Epoch 82/100\n",
      "1875/1875 [==============================] - 2s 866us/step - loss: 0.4432 - accuracy: 0.8477\n",
      "Epoch 83/100\n",
      "1875/1875 [==============================] - 2s 959us/step - loss: 0.4458 - accuracy: 0.8515\n",
      "Epoch 84/100\n",
      "1875/1875 [==============================] - 2s 957us/step - loss: 0.4467 - accuracy: 0.8486\n",
      "Epoch 85/100\n",
      "1875/1875 [==============================] - 2s 908us/step - loss: 0.4371 - accuracy: 0.8487\n",
      "Epoch 86/100\n",
      "1875/1875 [==============================] - 2s 822us/step - loss: 0.4410 - accuracy: 0.8486\n",
      "Epoch 87/100\n",
      "1875/1875 [==============================] - 2s 891us/step - loss: 0.4358 - accuracy: 0.8499\n",
      "Epoch 88/100\n",
      "1875/1875 [==============================] - 2s 828us/step - loss: 0.4415 - accuracy: 0.8485\n",
      "Epoch 89/100\n",
      "1875/1875 [==============================] - 2s 848us/step - loss: 0.4398 - accuracy: 0.8494\n",
      "Epoch 90/100\n",
      "1875/1875 [==============================] - 2s 877us/step - loss: 0.4489 - accuracy: 0.8478\n",
      "Epoch 91/100\n",
      "1875/1875 [==============================] - 2s 826us/step - loss: 0.4289 - accuracy: 0.8518\n",
      "Epoch 92/100\n",
      "1875/1875 [==============================] - 2s 849us/step - loss: 0.4378 - accuracy: 0.8497\n",
      "Epoch 93/100\n",
      "1875/1875 [==============================] - 2s 1ms/step - loss: 0.4431 - accuracy: 0.8500\n",
      "Epoch 94/100\n",
      "1875/1875 [==============================] - 2s 856us/step - loss: 0.4416 - accuracy: 0.8503\n",
      "Epoch 95/100\n",
      "1875/1875 [==============================] - 2s 887us/step - loss: 0.4443 - accuracy: 0.8502\n",
      "Epoch 96/100\n",
      "1875/1875 [==============================] - 2s 857us/step - loss: 0.4383 - accuracy: 0.8505\n",
      "Epoch 97/100\n",
      "1875/1875 [==============================] - 2s 800us/step - loss: 0.4448 - accuracy: 0.8497\n",
      "Epoch 98/100\n",
      "1875/1875 [==============================] - 2s 858us/step - loss: 0.4492 - accuracy: 0.8497\n",
      "Epoch 99/100\n",
      "1875/1875 [==============================] - 2s 874us/step - loss: 0.4472 - accuracy: 0.8502\n",
      "Epoch 100/100\n",
      "1875/1875 [==============================] - 2s 840us/step - loss: 0.4597 - accuracy: 0.8486\n"
     ]
    },
    {
     "data": {
      "text/plain": [
       "<keras.callbacks.History at 0x7f36002ec820>"
      ]
     },
     "execution_count": 10,
     "metadata": {},
     "output_type": "execute_result"
    }
   ],
   "source": [
    "model.fit(train_images, train_labels, batch_size=32, epochs=100)"
   ]
  },
  {
   "cell_type": "markdown",
   "metadata": {},
   "source": [
    "##### Evaluate on unseen data\n",
    "\n",
    "Let us test the model on unseen data using the `evaluate()` method."
   ]
  },
  {
   "cell_type": "code",
   "execution_count": 11,
   "metadata": {},
   "outputs": [
    {
     "name": "stdout",
     "output_type": "stream",
     "text": [
      "\n",
      "Test accuracy: 0.8216000199317932\n"
     ]
    }
   ],
   "source": [
    "test_loss, test_acc = model.evaluate(test_images,  test_labels, verbose=0)\n",
    "print('\\nTest accuracy:', test_acc)"
   ]
  },
  {
   "cell_type": "markdown",
   "metadata": {},
   "source": [
    "##### Perform a prediction on a single image\n",
    "\n",
    "Let us run a prediction on one image and see the result."
   ]
  },
  {
   "cell_type": "code",
   "execution_count": 12,
   "metadata": {},
   "outputs": [
    {
     "name": "stdout",
     "output_type": "stream",
     "text": [
      "Predicted label: 7 (Sneaker)\n",
      "Real label: 7 (Sneaker)\n"
     ]
    },
    {
     "data": {
      "image/png": "[encoded data removed]",
      "text/plain": [
       "<Figure size 432x288 with 1 Axes>"
      ]
     },
     "metadata": {
      "needs_background": "light"
     },
     "output_type": "display_data"
    },
    {
     "data": {
      "image/png": "[encoded data removed]",
      "text/plain": [
       "<Figure size 432x288 with 1 Axes>"
      ]
     },
     "metadata": {
      "needs_background": "light"
     },
     "output_type": "display_data"
    }
   ],
   "source": [
    "idx = 9\n",
    "\n",
    "pred = model.predict(test_images[idx].reshape(1, 28, 28))\n",
    "pred_lidx = tf.argmax(pred[0])\n",
    "pred_label = class_names[pred_lidx]\n",
    "\n",
    "print(\"Predicted label: {} ({})\".format(pred_lidx, pred_label))\n",
    "print(\"Real label: {} ({})\".format(test_labels[idx], class_names[test_labels[idx]]))\n",
    "\n",
    "plt.figure()\n",
    "plt.imshow(test_images[idx], cmap=plt.cm.binary)\n",
    "plt.grid(False)\n",
    "plt.figure()\n",
    "plt.bar(range(len(class_names)), pred[0], tick_label=class_names)\n",
    "plt.xticks(rotation=45)\n",
    "plt.show()"
   ]
  },
  {
   "cell_type": "code",
   "execution_count": null,
   "metadata": {},
   "outputs": [],
   "source": []
  }
 ],
 "metadata": {
  "kernelspec": {
   "display_name": "Python 3 (ipykernel)",
   "language": "python",
   "name": "python3"
  },
  "language_info": {
   "codemirror_mode": {
    "name": "ipython",
    "version": 3
   },
   "file_extension": ".py",
   "mimetype": "text/x-python",
   "name": "python",
   "nbconvert_exporter": "python",
   "pygments_lexer": "ipython3",
   "version": "3.8.10"
  }
 },
 "nbformat": 4,
 "nbformat_minor": 4
}
